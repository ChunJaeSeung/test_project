{
  "cells": [
    {
      "cell_type": "markdown",
      "metadata": {
        "id": "view-in-github",
        "colab_type": "text"
      },
      "source": [
        "<a href=\"https://colab.research.google.com/github/ChunJaeSeung/test_project/blob/main/lesson_10_Loop2_for_else_continue.ipynb\" target=\"_parent\"><img src=\"https://colab.research.google.com/assets/colab-badge.svg\" alt=\"Open In Colab\"/></a>"
      ]
    },
    {
      "cell_type": "markdown",
      "metadata": {
        "id": "5VYDtipjFPr2"
      },
      "source": [
        "### for loop 2"
      ]
    },
    {
      "cell_type": "markdown",
      "metadata": {
        "id": "7AZVrKX7FPr9"
      },
      "source": [
        "##### zip을 이용한 받아주기"
      ]
    },
    {
      "cell_type": "code",
      "execution_count": 1,
      "metadata": {
        "ExecuteTime": {
          "end_time": "2021-02-05T05:08:34.138928Z",
          "start_time": "2021-02-05T05:08:34.133941Z"
        },
        "id": "Zwl9up5qFPr9",
        "outputId": "e3ab42a0-af43-42c5-c9e9-7bba65dd6aff",
        "colab": {
          "base_uri": "https://localhost:8080/"
        }
      },
      "outputs": [
        {
          "output_type": "stream",
          "name": "stdout",
          "text": [
            "google chrome 1\n",
            "facebook libra 3\n",
            "apple iphone 2\n",
            "tesla e-car 4\n"
          ]
        }
      ],
      "source": [
        "corp = ['google','facebook','apple','tesla']\n",
        "prod = ['chrome','libra','iphone','e-car']\n",
        "rank = [1, 3, 2, 4]\n",
        "\n",
        "for c, p, r in zip(corp, prod, rank):\n",
        "    print(c, p, r)"
      ]
    },
    {
      "cell_type": "code",
      "source": [
        "for i,j in enumerate(zip(corp,prod)):\n",
        "  print(i,j)\n",
        "  #print(i,j[0],j[1])"
      ],
      "metadata": {
        "id": "SOyMq28zGSRg",
        "colab": {
          "base_uri": "https://localhost:8080/"
        },
        "outputId": "9dc3353d-75f3-4443-9399-31bd0bd9d620"
      },
      "execution_count": 2,
      "outputs": [
        {
          "output_type": "stream",
          "name": "stdout",
          "text": [
            "0 ('google', 'chrome')\n",
            "1 ('facebook', 'libra')\n",
            "2 ('apple', 'iphone')\n",
            "3 ('tesla', 'e-car')\n"
          ]
        }
      ]
    },
    {
      "cell_type": "markdown",
      "metadata": {
        "id": "9t3KOMlmFPr-"
      },
      "source": [
        "#### for문 continue\n",
        "    - continue를 사용 : for문의 조건문으로 돌아가서 루프를 실행(다음 순서로 진행)"
      ]
    },
    {
      "cell_type": "code",
      "execution_count": 3,
      "metadata": {
        "ExecuteTime": {
          "end_time": "2021-02-05T05:10:40.700023Z",
          "start_time": "2021-02-05T05:10:40.696033Z"
        },
        "id": "xyQVUuddFPr-",
        "outputId": "6640b252-b2f7-4d3b-d85f-62e21cbc12da",
        "colab": {
          "base_uri": "https://localhost:8080/"
        }
      },
      "outputs": [
        {
          "output_type": "stream",
          "name": "stdout",
          "text": [
            "홀수는 패스\n",
            "2\n",
            "홀수는 패스\n",
            "4\n",
            "홀수는 패스\n"
          ]
        }
      ],
      "source": [
        "ls = [1, 2, 3, 4, 5]\n",
        "\n",
        "for i in ls:\n",
        "  if i % 2:\n",
        "    print('홀수는 패스')\n",
        "    continue\n",
        "  print(i)"
      ]
    },
    {
      "cell_type": "markdown",
      "metadata": {
        "id": "o-a7euWwFPr_"
      },
      "source": [
        "#### 중첩 for문"
      ]
    },
    {
      "cell_type": "code",
      "execution_count": null,
      "metadata": {
        "ExecuteTime": {
          "end_time": "2021-02-05T05:14:59.585531Z",
          "start_time": "2021-02-05T05:14:59.579547Z"
        },
        "id": "F09YEtypFPr_"
      },
      "outputs": [],
      "source": [
        "# 구구단 전체 출력해보기\n",
        "for i in range(1,10):\n",
        "  print(\"[%s 단]\"%i)\n",
        "  for j in range(1,10):\n",
        "    print(i ,\"x\", j,\"= \" ,i*j)"
      ]
    },
    {
      "cell_type": "code",
      "source": [
        "#구구단 전체 출력하기\n",
        "for i in range(1,10):\n",
        "  print()\n",
        "  for j in range(1,10):\n",
        "    print(i, \"x\", j, \"= \", i*j, end ='\\t')"
      ],
      "metadata": {
        "colab": {
          "base_uri": "https://localhost:8080/"
        },
        "id": "s4-J4dKcLTNX",
        "outputId": "da975737-66d8-4939-8492-0948120d4cc6"
      },
      "execution_count": 25,
      "outputs": [
        {
          "output_type": "stream",
          "name": "stdout",
          "text": [
            "\n",
            "1 x 1 =  1\t1 x 2 =  2\t1 x 3 =  3\t1 x 4 =  4\t1 x 5 =  5\t1 x 6 =  6\t1 x 7 =  7\t1 x 8 =  8\t1 x 9 =  9\t\n",
            "2 x 1 =  2\t2 x 2 =  4\t2 x 3 =  6\t2 x 4 =  8\t2 x 5 =  10\t2 x 6 =  12\t2 x 7 =  14\t2 x 8 =  16\t2 x 9 =  18\t\n",
            "3 x 1 =  3\t3 x 2 =  6\t3 x 3 =  9\t3 x 4 =  12\t3 x 5 =  15\t3 x 6 =  18\t3 x 7 =  21\t3 x 8 =  24\t3 x 9 =  27\t\n",
            "4 x 1 =  4\t4 x 2 =  8\t4 x 3 =  12\t4 x 4 =  16\t4 x 5 =  20\t4 x 6 =  24\t4 x 7 =  28\t4 x 8 =  32\t4 x 9 =  36\t\n",
            "5 x 1 =  5\t5 x 2 =  10\t5 x 3 =  15\t5 x 4 =  20\t5 x 5 =  25\t5 x 6 =  30\t5 x 7 =  35\t5 x 8 =  40\t5 x 9 =  45\t\n",
            "6 x 1 =  6\t6 x 2 =  12\t6 x 3 =  18\t6 x 4 =  24\t6 x 5 =  30\t6 x 6 =  36\t6 x 7 =  42\t6 x 8 =  48\t6 x 9 =  54\t\n",
            "7 x 1 =  7\t7 x 2 =  14\t7 x 3 =  21\t7 x 4 =  28\t7 x 5 =  35\t7 x 6 =  42\t7 x 7 =  49\t7 x 8 =  56\t7 x 9 =  63\t\n",
            "8 x 1 =  8\t8 x 2 =  16\t8 x 3 =  24\t8 x 4 =  32\t8 x 5 =  40\t8 x 6 =  48\t8 x 7 =  56\t8 x 8 =  64\t8 x 9 =  72\t\n",
            "9 x 1 =  9\t9 x 2 =  18\t9 x 3 =  27\t9 x 4 =  36\t9 x 5 =  45\t9 x 6 =  54\t9 x 7 =  63\t9 x 8 =  72\t9 x 9 =  81\t"
          ]
        }
      ]
    },
    {
      "cell_type": "markdown",
      "metadata": {
        "id": "_YpDYqZ5FPr_"
      },
      "source": [
        "#### list comprehension\n",
        "    - list 데이터를 만들 때 for문을 이용하여 생성\n",
        "    - 속도가 빠르고 ram을 적게 사용"
      ]
    },
    {
      "cell_type": "code",
      "execution_count": 13,
      "metadata": {
        "ExecuteTime": {
          "end_time": "2021-02-05T05:16:45.913248Z",
          "start_time": "2021-02-05T05:16:45.822490Z"
        },
        "id": "cv69Tn-EFPr_",
        "outputId": "4ebe39dc-f06c-4654-be43-e8eadd1f9fd8",
        "colab": {
          "base_uri": "https://localhost:8080/"
        }
      },
      "outputs": [
        {
          "output_type": "execute_result",
          "data": {
            "text/plain": [
              "[121, 144, 169, 196]"
            ]
          },
          "metadata": {},
          "execution_count": 13
        }
      ],
      "source": [
        "ls = [11, 12, 13, 14]\n",
        "# ls2 = ls ** 2\n",
        "\n",
        "ls2 = []\n",
        "for i in ls:\n",
        "  ls2.append(i**2)\n",
        "ls2"
      ]
    },
    {
      "cell_type": "code",
      "source": [
        "ls"
      ],
      "metadata": {
        "colab": {
          "base_uri": "https://localhost:8080/"
        },
        "id": "T6177bXoKN-2",
        "outputId": "0ca54234-e392-4286-cb10-0c88d6ea42bf"
      },
      "execution_count": 16,
      "outputs": [
        {
          "output_type": "execute_result",
          "data": {
            "text/plain": [
              "[11, 12, 13, 14]"
            ]
          },
          "metadata": {},
          "execution_count": 16
        }
      ]
    },
    {
      "cell_type": "code",
      "execution_count": 17,
      "metadata": {
        "ExecuteTime": {
          "end_time": "2021-02-05T05:17:50.965517Z",
          "start_time": "2021-02-05T05:17:50.960530Z"
        },
        "id": "bMuXEsdHFPsA",
        "outputId": "89f2189c-6ba4-4f72-dc4b-10c7a8d8406b",
        "colab": {
          "base_uri": "https://localhost:8080/"
        }
      },
      "outputs": [
        {
          "output_type": "execute_result",
          "data": {
            "text/plain": [
              "[121, 144, 169, 196]"
            ]
          },
          "metadata": {},
          "execution_count": 17
        }
      ],
      "source": [
        "ls2 = [i ** 2 for i in ls]\n",
        "ls2"
      ]
    },
    {
      "cell_type": "code",
      "execution_count": 19,
      "metadata": {
        "ExecuteTime": {
          "end_time": "2021-02-05T05:21:02.960104Z",
          "start_time": "2021-02-05T05:21:02.955117Z"
        },
        "id": "uZJ-8EY6FPsB",
        "outputId": "f8865637-7208-49a3-b97f-218e0b0d55be",
        "colab": {
          "base_uri": "https://localhost:8080/"
        }
      },
      "outputs": [
        {
          "output_type": "execute_result",
          "data": {
            "text/plain": [
              "['짝수', 1, '짝수', 3, '짝수', 5, '짝수', 7, '짝수', 9]"
            ]
          },
          "metadata": {},
          "execution_count": 19
        }
      ],
      "source": [
        "# 10까지 자연수를 출력하면서 짝수는 '짝수'로 홀수는 그 숫자를 출력한다.\n",
        "# comprehension 을 이용해보자.\n",
        "\n",
        "[data if data %2 else \"짝수\" for data in range(10)]"
      ]
    },
    {
      "cell_type": "markdown",
      "metadata": {
        "id": "CxxJu0ryFPsB"
      },
      "source": [
        "### Quiz\n",
        "    이중 for문을 이용하여 2차원 배열의 원소들 합을 1차원으로 나타내기\n",
        "                                                                      행렬 표현 (2x3)\n",
        "$$\n",
        "    \\begin{pmatrix}\n",
        "    A00 & A01 & A02 \\\\\n",
        "    A10 & A11 & A12 \\\\\n",
        "    \\end{pmatrix}\n",
        "$$"
      ]
    },
    {
      "cell_type": "markdown",
      "metadata": {
        "id": "ialkEGFHFPsB"
      },
      "source": [
        "$$\n",
        "    \\begin{pmatrix}\n",
        "    2 & 4 \\\\\n",
        "    6 & 8 \\\\\n",
        "    \\end{pmatrix}\n",
        "    +\n",
        "    \\begin{pmatrix}\n",
        "    1 & 3 \\\\\n",
        "    5 & 7 \\\\\n",
        "    \\end{pmatrix}\n",
        "    =\n",
        "    \\begin{pmatrix}\n",
        "    3 & 7 \\\\\n",
        "    11 & 15 \\\\\n",
        "    \\end{pmatrix}\n",
        "$$"
      ]
    },
    {
      "cell_type": "code",
      "execution_count": 21,
      "metadata": {
        "id": "PLIkX7y_FPsB",
        "colab": {
          "base_uri": "https://localhost:8080/"
        },
        "outputId": "01fe7f3f-1a1e-4835-82c8-e1ecea8f7141"
      },
      "outputs": [
        {
          "output_type": "execute_result",
          "data": {
            "text/plain": [
              "[3, 7, 11, 15]"
            ]
          },
          "metadata": {},
          "execution_count": 21
        }
      ],
      "source": [
        "m1 = [[2, 4], [6, 8]]\n",
        "m2 = [[1, 3], [5, 7]]\n",
        "\n",
        "result = []\n",
        "\n",
        "for i in range(len(m1)):\n",
        "  for j in range(len(m2)):\n",
        "    result.append(m1[i][j] + m2[i][j])\n",
        "result"
      ]
    },
    {
      "cell_type": "code",
      "source": [
        "# comprehension 을 이용해보자.\n",
        "res2=[m1[i][j] + m2[i][j] for i in range(len(m1)) for j in range(len(m2))]\n",
        "\n",
        "print(res2)"
      ],
      "metadata": {
        "id": "sBvtKXm0HWm4",
        "colab": {
          "base_uri": "https://localhost:8080/"
        },
        "outputId": "4b8b3fe4-6530-4db5-b4d7-3a922f090a8b"
      },
      "execution_count": 22,
      "outputs": [
        {
          "output_type": "stream",
          "name": "stdout",
          "text": [
            "[3, 7, 11, 15]\n"
          ]
        }
      ]
    },
    {
      "cell_type": "code",
      "source": [
        ""
      ],
      "metadata": {
        "id": "8UCAaz0ZLN2y"
      },
      "execution_count": null,
      "outputs": []
    }
  ],
  "metadata": {
    "hide_input": false,
    "kernelspec": {
      "display_name": "Python 3",
      "language": "python",
      "name": "python3"
    },
    "language_info": {
      "codemirror_mode": {
        "name": "ipython",
        "version": 3
      },
      "file_extension": ".py",
      "mimetype": "text/x-python",
      "name": "python",
      "nbconvert_exporter": "python",
      "pygments_lexer": "ipython3",
      "version": "3.8.5"
    },
    "toc": {
      "base_numbering": 1,
      "nav_menu": {},
      "number_sections": true,
      "sideBar": true,
      "skip_h1_title": false,
      "title_cell": "Table of Contents",
      "title_sidebar": "Contents",
      "toc_cell": false,
      "toc_position": {},
      "toc_section_display": true,
      "toc_window_display": false
    },
    "varInspector": {
      "cols": {
        "lenName": 16,
        "lenType": 16,
        "lenVar": 40
      },
      "kernels_config": {
        "python": {
          "delete_cmd_postfix": "",
          "delete_cmd_prefix": "del ",
          "library": "var_list.py",
          "varRefreshCmd": "print(var_dic_list())"
        },
        "r": {
          "delete_cmd_postfix": ") ",
          "delete_cmd_prefix": "rm(",
          "library": "var_list.r",
          "varRefreshCmd": "cat(var_dic_list()) "
        }
      },
      "types_to_exclude": [
        "module",
        "function",
        "builtin_function_or_method",
        "instance",
        "_Feature"
      ],
      "window_display": false
    },
    "colab": {
      "name": "lesson 10. Loop2 - for else continue.ipynb",
      "provenance": [],
      "collapsed_sections": [],
      "include_colab_link": true
    }
  },
  "nbformat": 4,
  "nbformat_minor": 0
}