{
  "nbformat": 4,
  "nbformat_minor": 0,
  "metadata": {
    "colab": {
      "name": "Assignment 02.ipynb",
      "provenance": [],
      "collapsed_sections": [],
      "include_colab_link": true
    },
    "kernelspec": {
      "name": "python3",
      "display_name": "Python 3"
    },
    "language_info": {
      "name": "python"
    }
  },
  "cells": [
    {
      "cell_type": "markdown",
      "metadata": {
        "id": "view-in-github",
        "colab_type": "text"
      },
      "source": [
        "<a href=\"https://colab.research.google.com/github/ChunJaeSeung/test_project/blob/main/Assignment_02.ipynb\" target=\"_parent\"><img src=\"https://colab.research.google.com/assets/colab-badge.svg\" alt=\"Open In Colab\"/></a>"
      ]
    },
    {
      "cell_type": "code",
      "execution_count": 11,
      "metadata": {
        "colab": {
          "base_uri": "https://localhost:8080/"
        },
        "id": "N9YUsOry9nD0",
        "outputId": "f00e0b3f-ce7b-4bf3-8c70-1f1f3e0920d3"
      },
      "outputs": [
        {
          "output_type": "stream",
          "name": "stdout",
          "text": [
            "김밥의 가격은? 5000\n",
            "dict_values([5000, 3000, 2000])\n"
          ]
        }
      ],
      "source": [
        "# 사전의 구조와 이해\n",
        "\n",
        "price = {'김밥': 5000, '어묵':3000, '떡볶이':2000}\n",
        "\n",
        "print(\"김밥의 가격은?\", price['김밥'])\n",
        "\n",
        "price = price.values()\n",
        "print(price)"
      ]
    },
    {
      "cell_type": "code",
      "source": [
        "# 리스트의 슬라이싱을 사용하여 아래를 출력하세요\n",
        "\n",
        "tp = [1,2,3,4,5,6,7]\n",
        "\n",
        "print(tp[0])\n",
        "\n",
        "print(tp[0:3])\n",
        "\n",
        "print(tp[3:7])\n",
        "\n",
        "print(tp[6])\n",
        "\n",
        "tp.sort(reverse = True)\n",
        "print(tp)"
      ],
      "metadata": {
        "colab": {
          "base_uri": "https://localhost:8080/"
        },
        "id": "lQCEERSl-Wba",
        "outputId": "0f4a4494-b859-4616-c953-4a6a19b2cbee"
      },
      "execution_count": 12,
      "outputs": [
        {
          "output_type": "stream",
          "name": "stdout",
          "text": [
            "1\n",
            "[1, 2, 3]\n",
            "[4, 5, 6, 7]\n",
            "7\n",
            "[7, 6, 5, 4, 3, 2, 1]\n"
          ]
        }
      ]
    },
    {
      "cell_type": "code",
      "source": [
        "# 조건문\n",
        "# 점수를 입력받아 등급을 출력하세요\n",
        "# 등급표 81~100\tA / 61~80\tB / 41~60\tC / 21~40\tD / 0~20\tE\n",
        "\n",
        "score = int(input(\"점수를 입력하세요: \"))\n",
        "\n",
        "if score > 80:\n",
        "  print(\"점수는 %s점이며 등급은 A등급 입니다.\"%score)\n",
        "elif score > 60:\n",
        "  print(\"점수는 %s점이며 등급은 B등급 입니다.\"%score)\n",
        "elif score > 40:\n",
        "  print(\"점수는 %s점이며 등급은 C등급 입니다.\"%score)\n",
        "elif score > 20:\n",
        "  print(\"점수는 %s점이며 등급은 D등급 입니다.\"%score)\n",
        "else:\n",
        "  print(\"점수는 %s점이며 등급은 E등급 입니다.\"%score)"
      ],
      "metadata": {
        "colab": {
          "base_uri": "https://localhost:8080/"
        },
        "id": "YxX6NxrNCK5z",
        "outputId": "bb287867-f2fd-4080-b06b-300cd65bc173"
      },
      "execution_count": 3,
      "outputs": [
        {
          "output_type": "stream",
          "name": "stdout",
          "text": [
            "점수를 입력하세요: 67\n",
            "점수는 67점이며 등급은 B등급 입니다.\n"
          ]
        }
      ]
    },
    {
      "cell_type": "code",
      "source": [
        "# 함수를 만들고 두 수를 입력받아 연산하세요\n",
        "\n",
        "a = int(input('첫 번째 정수를 입력하세요: '))\n",
        "b = int(input('두 번째 정수를 입력하세요: '))\n",
        "\n",
        "print(\"덧셈 함수 연산: \", a + b)\n",
        "print(\"곱셈 함수 연산: \", a * b)\n",
        "print(\"제곱 함수 연산: \", a ** b)"
      ],
      "metadata": {
        "colab": {
          "base_uri": "https://localhost:8080/"
        },
        "id": "mD9n7jRG-8qL",
        "outputId": "d6106f82-e83e-49ca-cdaa-883e6b349c14"
      },
      "execution_count": 7,
      "outputs": [
        {
          "output_type": "stream",
          "name": "stdout",
          "text": [
            "첫 번째 정수를 입력하세요: 3\n",
            "두 번째 정수를 입력하세요: 5\n",
            "덧셈 함수 연산:  8\n",
            "곱셈 함수 연산:  15\n",
            "제곱 함수 연산:  243\n"
          ]
        }
      ]
    },
    {
      "cell_type": "code",
      "source": [
        "# 알고리즘 생성\n",
        "# 피보나치 수열을 계산하는 함수를 생성하고 자연수 10을 넣어 실행하세요\n",
        "# 피보나치 수열 f(n) = f(n - 1) + f(n - 2) 단, f(1) = 1, f(0) = 0\n",
        "\n",
        "def pivo(n):\n",
        "  if n == 0:\n",
        "    return 0\n",
        "  elif n == 1:\n",
        "    return 1\n",
        "  else:\n",
        "    return pivo(n - 1) + pivo(n - 2)\n",
        "\n",
        "print(pivo(10))"
      ],
      "metadata": {
        "colab": {
          "base_uri": "https://localhost:8080/"
        },
        "id": "OL3QMyusC9V0",
        "outputId": "41406dd3-5588-46a3-b720-ee2f90c9f34b"
      },
      "execution_count": 19,
      "outputs": [
        {
          "output_type": "stream",
          "name": "stdout",
          "text": [
            "55\n"
          ]
        }
      ]
    },
    {
      "cell_type": "code",
      "source": [
        "# 클래스\n",
        "# 사람 (Human) 클래스를 정의하고 (이름, 나이, 성별)을 받는 생성자를 추가하세요.\n",
        "\n",
        "#인터넷 참고 하였음.\n",
        "\n",
        "class Human:\n",
        "\n",
        "  def __init__(self, name, age, gender):\n",
        "    self.name = name\n",
        "    self.age = age\n",
        "    self.gender = gender\n",
        "\n",
        "  def me(self):\n",
        "    print(\"이름: %s\" %self.name)\n",
        "    print(\"나이: %s\" %self.age)\n",
        "    print(\"성별: %s\" %self.gender)\n",
        "\n",
        "\n",
        "Human = Human(\"천재승\", 25, \"남\")\n",
        "Human.me()"
      ],
      "metadata": {
        "id": "nYv044w8Ae0Z",
        "colab": {
          "base_uri": "https://localhost:8080/"
        },
        "outputId": "7b4b3ee5-02e2-41c0-d54c-de6321ed380c"
      },
      "execution_count": 29,
      "outputs": [
        {
          "output_type": "stream",
          "name": "stdout",
          "text": [
            "이름: 천재승\n",
            "나이: 25\n",
            "성별: 남\n"
          ]
        }
      ]
    }
  ]
}
