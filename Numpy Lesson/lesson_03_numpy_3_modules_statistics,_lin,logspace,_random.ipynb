{
  "cells": [
    {
      "cell_type": "markdown",
      "metadata": {
        "id": "view-in-github",
        "colab_type": "text"
      },
      "source": [
        "<a href=\"https://colab.research.google.com/github/ChunJaeSeung/test_project/blob/main/lesson_03_numpy_3_modules_statistics%2C_lin%2Clogspace%2C_random.ipynb\" target=\"_parent\"><img src=\"https://colab.research.google.com/assets/colab-badge.svg\" alt=\"Open In Colab\"/></a>"
      ]
    },
    {
      "cell_type": "markdown",
      "metadata": {
        "id": "RT6Sjl0A3XmM"
      },
      "source": [
        "### Numpy modules"
      ]
    },
    {
      "cell_type": "code",
      "execution_count": 6,
      "metadata": {
        "ExecuteTime": {
          "end_time": "2021-02-02T03:35:32.486108Z",
          "start_time": "2021-02-02T03:35:32.473142Z"
        },
        "colab": {
          "base_uri": "https://localhost:8080/"
        },
        "id": "aGyFQYMG3XmP",
        "outputId": "3cf1d7b9-2dcc-4f3d-ea38-ee8d10f736d4"
      },
      "outputs": [
        {
          "output_type": "execute_result",
          "data": {
            "text/plain": [
              "array([26, 28, 30, 35, 27, 31, 44])"
            ]
          },
          "metadata": {},
          "execution_count": 6
        }
      ],
      "source": [
        "import numpy as np\n",
        "\n",
        "ary = [26, 28, 30, 35, 27, 31, 44]\n",
        "ary = np.array(ary)\n",
        "ary"
      ]
    },
    {
      "cell_type": "markdown",
      "metadata": {
        "id": "eHauG6S23XmQ"
      },
      "source": [
        "#### Statistics modules\n",
        "    - max, min, median, mean, std, var\n",
        "    - cov, corrcoef"
      ]
    },
    {
      "cell_type": "code",
      "execution_count": 7,
      "metadata": {
        "ExecuteTime": {
          "end_time": "2021-02-02T03:38:09.267774Z",
          "start_time": "2021-02-02T03:38:09.249809Z"
        },
        "colab": {
          "base_uri": "https://localhost:8080/"
        },
        "id": "ynajkz_N3XmQ",
        "outputId": "df8a882a-e42b-4a28-dedd-dc33a60b5cdf"
      },
      "outputs": [
        {
          "output_type": "execute_result",
          "data": {
            "text/plain": [
              "(44, 26, 31.571428571428573, 33.38775510204081, 5.778213833187624)"
            ]
          },
          "metadata": {},
          "execution_count": 7
        }
      ],
      "source": [
        "np.max(ary), np.min(ary), np.mean(ary), np.var(ary), np.std(ary)"
      ]
    },
    {
      "cell_type": "markdown",
      "metadata": {
        "id": "smyKOZra3XmR"
      },
      "source": [
        "#### linspace, logspace\n",
        "    - linspace : 설정한 범위에서 선형적으로 분할한 위치의 값을 출력\n",
        "    - logspace : 설정한 범위에서 로그로 분할한 위치의 값을 출력"
      ]
    },
    {
      "cell_type": "code",
      "execution_count": 8,
      "metadata": {
        "ExecuteTime": {
          "end_time": "2021-02-02T03:51:13.748004Z",
          "start_time": "2021-02-02T03:51:13.730613Z"
        },
        "colab": {
          "base_uri": "https://localhost:8080/"
        },
        "id": "OyC2git13XmR",
        "outputId": "210e0f59-e3aa-4920-e95c-99ee0586d166"
      },
      "outputs": [
        {
          "output_type": "execute_result",
          "data": {
            "text/plain": [
              "array([  0.,  25.,  50.,  75., 100.])"
            ]
          },
          "metadata": {},
          "execution_count": 8
        }
      ],
      "source": [
        "np.linspace(0, 100, 5)"
      ]
    },
    {
      "cell_type": "markdown",
      "metadata": {
        "id": "NV9EMmLF3XmS"
      },
      "source": [
        "##### logspace\n",
        "    - log10(x1)=2, log_10(x_2)=4"
      ]
    },
    {
      "cell_type": "code",
      "execution_count": 9,
      "metadata": {
        "ExecuteTime": {
          "end_time": "2021-02-02T03:51:34.294992Z",
          "start_time": "2021-02-02T03:51:34.278064Z"
        },
        "colab": {
          "base_uri": "https://localhost:8080/"
        },
        "id": "5aCAsiOh3XmS",
        "outputId": "b2437f84-701e-4ba3-fe4b-6ef380dac7fd"
      },
      "outputs": [
        {
          "output_type": "execute_result",
          "data": {
            "text/plain": [
              "array([  100.,  1000., 10000.])"
            ]
          },
          "metadata": {},
          "execution_count": 9
        }
      ],
      "source": [
        "np.logspace(2, 4, 3)"
      ]
    },
    {
      "cell_type": "markdown",
      "metadata": {
        "id": "ITPqeKAQ3XmS"
      },
      "source": [
        "##### 2000년 최저시급과 2019년 최저시급을 가정하여 선형적 증가 추세를 보고싶다면?"
      ]
    },
    {
      "cell_type": "code",
      "execution_count": null,
      "metadata": {
        "ExecuteTime": {
          "end_time": "2021-02-02T03:59:45.411658Z",
          "start_time": "2021-02-02T03:59:45.397700Z"
        },
        "id": "NIFSa1uQ3XmT",
        "outputId": "cf78a1a8-3651-46c1-ec02-0d4b60ddaafb"
      },
      "outputs": [
        {
          "data": {
            "text/plain": [
              "array([1600., 2350., 3100., 3850., 4600., 5350., 6100., 6850., 7600.,\n",
              "       8350.])"
            ]
          },
          "execution_count": 10,
          "metadata": {},
          "output_type": "execute_result"
        }
      ],
      "source": [
        "time_00 = 1600\n",
        "time_19 = 8350\n",
        "np.linspace(time_00, time_19, 10)"
      ]
    },
    {
      "cell_type": "markdown",
      "metadata": {
        "id": "lO0yvFPR3XmT"
      },
      "source": [
        "#### numpy random module\n",
        "    - seed : 랜덤의 설정값\n",
        "    - rand : 균등분포로 난수 생생\n",
        "    - randn : 정규분포로 난수 생성\n",
        "    - randint : 균등분포로 정수 생성\n",
        "    - shuffle : 섞기\n",
        "    - choice : 데이터를 특정 확률로 뽑기"
      ]
    },
    {
      "cell_type": "markdown",
      "metadata": {
        "id": "GR6IA6No3XmU"
      },
      "source": [
        "##### seed"
      ]
    },
    {
      "cell_type": "code",
      "execution_count": 10,
      "metadata": {
        "ExecuteTime": {
          "end_time": "2021-02-02T04:02:41.739869Z",
          "start_time": "2021-02-02T04:02:41.715938Z"
        },
        "colab": {
          "base_uri": "https://localhost:8080/"
        },
        "id": "wSxk5cHB3XmU",
        "outputId": "6413dbe2-796b-4799-d5d1-a6ad0d6a59a0"
      },
      "outputs": [
        {
          "output_type": "execute_result",
          "data": {
            "text/plain": [
              "(array([47, 22, 82, 19, 85, 15, 89, 74, 26, 11]),\n",
              " array([50, 25, 82, 32, 53, 92, 85, 17, 44, 59]),\n",
              " array([47, 22, 82, 19, 85, 15, 89, 74, 26, 11]))"
            ]
          },
          "metadata": {},
          "execution_count": 10
        }
      ],
      "source": [
        "np.random.seed(1) # arbitrary\n",
        "res1 = np.random.randint(10, 100, 10)\n",
        "\n",
        "np.random.seed(2)\n",
        "res2 = np.random.randint(10, 100, 10)\n",
        "\n",
        "np.random.seed(1)\n",
        "res3 = np.random.randint(10, 100, 10)\n",
        "\n",
        "res1, res2, res3"
      ]
    },
    {
      "cell_type": "markdown",
      "metadata": {
        "id": "DtvTpeKH3XmU"
      },
      "source": [
        "##### rand"
      ]
    },
    {
      "cell_type": "code",
      "execution_count": 11,
      "metadata": {
        "ExecuteTime": {
          "end_time": "2021-02-02T04:03:09.315915Z",
          "start_time": "2021-02-02T04:03:09.301950Z"
        },
        "colab": {
          "base_uri": "https://localhost:8080/"
        },
        "id": "6iMybQFd3XmU",
        "outputId": "4e11d597-5ee2-42f4-a2ea-5f482b6560d6"
      },
      "outputs": [
        {
          "output_type": "execute_result",
          "data": {
            "text/plain": [
              "array([0.18626021, 0.34556073, 0.39676747, 0.53881673, 0.41919451,\n",
              "       0.6852195 , 0.20445225, 0.87811744, 0.02738759, 0.67046751])"
            ]
          },
          "metadata": {},
          "execution_count": 11
        }
      ],
      "source": [
        "np.random.rand(10)"
      ]
    },
    {
      "cell_type": "code",
      "execution_count": 12,
      "metadata": {
        "ExecuteTime": {
          "end_time": "2021-02-02T04:03:14.372029Z",
          "start_time": "2021-02-02T04:03:14.354077Z"
        },
        "colab": {
          "base_uri": "https://localhost:8080/"
        },
        "id": "fOWeUqD53XmV",
        "outputId": "9ec4efc8-5ff8-497c-de7b-c0096cd03135"
      },
      "outputs": [
        {
          "output_type": "execute_result",
          "data": {
            "text/plain": [
              "array([0.4173048 , 0.55868983, 0.14038694, 0.19810149, 0.80074457,\n",
              "       0.96826158, 0.31342418, 0.69232262, 0.87638915, 0.89460666])"
            ]
          },
          "metadata": {},
          "execution_count": 12
        }
      ],
      "source": [
        "np.random.rand(10)"
      ]
    },
    {
      "cell_type": "code",
      "execution_count": 13,
      "metadata": {
        "ExecuteTime": {
          "end_time": "2021-02-02T04:03:53.774231Z",
          "start_time": "2021-02-02T04:03:53.757305Z"
        },
        "colab": {
          "base_uri": "https://localhost:8080/"
        },
        "id": "3muR-Scp3XmV",
        "outputId": "147d354c-4ce3-4f66-b42d-3b07939c62e1"
      },
      "outputs": [
        {
          "output_type": "execute_result",
          "data": {
            "text/plain": [
              "array([0.08504421, 0.03905478, 0.16983042, 0.8781425 , 0.09834683,\n",
              "       0.42110763, 0.95788953, 0.53316528, 0.69187711, 0.31551563])"
            ]
          },
          "metadata": {},
          "execution_count": 13
        }
      ],
      "source": [
        "np.random.rand(10)"
      ]
    },
    {
      "cell_type": "markdown",
      "metadata": {
        "id": "pR8r0OqM3XmV"
      },
      "source": [
        "##### randn"
      ]
    },
    {
      "cell_type": "code",
      "execution_count": 14,
      "metadata": {
        "ExecuteTime": {
          "end_time": "2021-02-02T04:04:26.448528Z",
          "start_time": "2021-02-02T04:04:26.427612Z"
        },
        "colab": {
          "base_uri": "https://localhost:8080/"
        },
        "id": "psw7gp7U3XmV",
        "outputId": "df5d83fe-9e5f-4af0-e912-7cf0067ef0d8"
      },
      "outputs": [
        {
          "output_type": "execute_result",
          "data": {
            "text/plain": [
              "array([ 0.90159072,  0.50249434,  0.90085595, -0.68372786, -0.12289023,\n",
              "       -0.93576943, -0.26788808,  0.53035547, -0.69166075, -0.39675353])"
            ]
          },
          "metadata": {},
          "execution_count": 14
        }
      ],
      "source": [
        "np.random.randn(10)"
      ]
    },
    {
      "cell_type": "markdown",
      "metadata": {
        "id": "tq6XiXK-3XmW"
      },
      "source": [
        "##### randint"
      ]
    },
    {
      "cell_type": "code",
      "execution_count": 18,
      "metadata": {
        "ExecuteTime": {
          "end_time": "2021-02-02T04:16:06.671231Z",
          "start_time": "2021-02-02T04:16:06.653279Z"
        },
        "colab": {
          "base_uri": "https://localhost:8080/"
        },
        "id": "cJFDh3gE3XmW",
        "outputId": "dda716e5-9026-456c-d6ca-51f6225d7918"
      },
      "outputs": [
        {
          "output_type": "execute_result",
          "data": {
            "text/plain": [
              "array([[4, 1, 9],\n",
              "       [8, 8, 2],\n",
              "       [2, 4, 1]])"
            ]
          },
          "metadata": {},
          "execution_count": 18
        }
      ],
      "source": [
        "ary = np.random.randint(1, 10, (3, 3))\n",
        "ary"
      ]
    },
    {
      "cell_type": "code",
      "source": [
        "# np.any(ary > 5)\n",
        "\n",
        "# np.all(ary > 5)\n",
        "\n",
        "# np.argmin(ary, axis = 0)\n",
        "\n",
        "# np.argmax(ary, 1)\n",
        "\n",
        "# np.argsort(ary, axis = 0)\n",
        "\n",
        "# ary[np.where(ary > 5)]\n",
        "\n",
        "np.where(ary < 5, 10, ary)"
      ],
      "metadata": {
        "colab": {
          "base_uri": "https://localhost:8080/"
        },
        "id": "T9Jiy6-A4x7w",
        "outputId": "564f97a4-6653-44eb-8072-5d062c3d3464"
      },
      "execution_count": 23,
      "outputs": [
        {
          "output_type": "execute_result",
          "data": {
            "text/plain": [
              "array([[10, 10,  9],\n",
              "       [ 8,  8, 10],\n",
              "       [10, 10, 10]])"
            ]
          },
          "metadata": {},
          "execution_count": 23
        }
      ]
    },
    {
      "cell_type": "code",
      "execution_count": 24,
      "metadata": {
        "ExecuteTime": {
          "end_time": "2021-02-02T04:16:08.734725Z",
          "start_time": "2021-02-02T04:16:08.721764Z"
        },
        "colab": {
          "base_uri": "https://localhost:8080/"
        },
        "id": "f0YO_-6r3XmW",
        "outputId": "4f3eacef-141f-4cb6-f296-82d5db6d66da"
      },
      "outputs": [
        {
          "output_type": "execute_result",
          "data": {
            "text/plain": [
              "array([[2, 4, 1],\n",
              "       [8, 8, 2],\n",
              "       [4, 1, 9]])"
            ]
          },
          "metadata": {},
          "execution_count": 24
        }
      ],
      "source": [
        "np.random.shuffle(ary)\n",
        "ary"
      ]
    },
    {
      "cell_type": "code",
      "source": [
        "arr = np.random.randint(0, 10, (4, 4))\n",
        "arr"
      ],
      "metadata": {
        "colab": {
          "base_uri": "https://localhost:8080/"
        },
        "id": "cXwSxP6m4q_B",
        "outputId": "80f305b4-ec4b-44c1-b622-2e5c51ed7967"
      },
      "execution_count": 25,
      "outputs": [
        {
          "output_type": "execute_result",
          "data": {
            "text/plain": [
              "array([[6, 4, 5, 6],\n",
              "       [2, 5, 7, 8],\n",
              "       [4, 4, 7, 7],\n",
              "       [4, 9, 0, 2]])"
            ]
          },
          "metadata": {},
          "execution_count": 25
        }
      ]
    },
    {
      "cell_type": "code",
      "source": [
        "np.max(arr, axis=1)\n",
        "\n",
        "# np.mean(arr, 0)\n",
        "\n",
        "# np.min(arr, 1)\n",
        "\n",
        "# np.std(arr), np.std(arr, 0)\n",
        "\n",
        "# np.sum(arr)"
      ],
      "metadata": {
        "colab": {
          "base_uri": "https://localhost:8080/"
        },
        "id": "CyJyO1Fj5xSm",
        "outputId": "e3b455f6-fe88-48a2-9750-044bb04f6cef"
      },
      "execution_count": 26,
      "outputs": [
        {
          "output_type": "execute_result",
          "data": {
            "text/plain": [
              "array([6, 8, 7, 9])"
            ]
          },
          "metadata": {},
          "execution_count": 26
        }
      ]
    },
    {
      "cell_type": "code",
      "source": [
        "arr1 = np.random.randint(0, 10, (2, 4))\n",
        "arr1"
      ],
      "metadata": {
        "colab": {
          "base_uri": "https://localhost:8080/"
        },
        "id": "ZI9X7Y605-4w",
        "outputId": "a0ee5675-63b4-4539-e55a-ad16da335646"
      },
      "execution_count": 28,
      "outputs": [
        {
          "output_type": "execute_result",
          "data": {
            "text/plain": [
              "array([[1, 9, 8, 2],\n",
              "       [3, 1, 2, 7]])"
            ]
          },
          "metadata": {},
          "execution_count": 28
        }
      ]
    },
    {
      "cell_type": "code",
      "source": [
        "arr2 = arr[... , np.newaxis]\n",
        "arr2.shape\n",
        "# arr3 = np.squeeze(arr2, -1)\n",
        "# arr3.shape\n",
        "arr4 = np.transpose(arr2, (2, 1, 0))\n",
        "arr4.shape, arr2.shape"
      ],
      "metadata": {
        "colab": {
          "base_uri": "https://localhost:8080/"
        },
        "id": "BQIqQW3g6E-o",
        "outputId": "90121282-f240-4d35-d59f-9ecaae7c73b0"
      },
      "execution_count": 30,
      "outputs": [
        {
          "output_type": "execute_result",
          "data": {
            "text/plain": [
              "(4, 4, 1)"
            ]
          },
          "metadata": {},
          "execution_count": 30
        }
      ]
    },
    {
      "cell_type": "code",
      "source": [
        ""
      ],
      "metadata": {
        "id": "Cr8PwzDO6TMw"
      },
      "execution_count": null,
      "outputs": []
    }
  ],
  "metadata": {
    "hide_input": false,
    "kernelspec": {
      "display_name": "Python 3",
      "language": "python",
      "name": "python3"
    },
    "language_info": {
      "codemirror_mode": {
        "name": "ipython",
        "version": 3
      },
      "file_extension": ".py",
      "mimetype": "text/x-python",
      "name": "python",
      "nbconvert_exporter": "python",
      "pygments_lexer": "ipython3",
      "version": "3.8.5"
    },
    "toc": {
      "base_numbering": 1,
      "nav_menu": {},
      "number_sections": true,
      "sideBar": true,
      "skip_h1_title": false,
      "title_cell": "Table of Contents",
      "title_sidebar": "Contents",
      "toc_cell": false,
      "toc_position": {},
      "toc_section_display": true,
      "toc_window_display": false
    },
    "varInspector": {
      "cols": {
        "lenName": 16,
        "lenType": 16,
        "lenVar": 40
      },
      "kernels_config": {
        "python": {
          "delete_cmd_postfix": "",
          "delete_cmd_prefix": "del ",
          "library": "var_list.py",
          "varRefreshCmd": "print(var_dic_list())"
        },
        "r": {
          "delete_cmd_postfix": ") ",
          "delete_cmd_prefix": "rm(",
          "library": "var_list.r",
          "varRefreshCmd": "cat(var_dic_list()) "
        }
      },
      "types_to_exclude": [
        "module",
        "function",
        "builtin_function_or_method",
        "instance",
        "_Feature"
      ],
      "window_display": false
    },
    "colab": {
      "name": "lesson 03. numpy 3 - modules statistics, lin,logspace, random.ipynb",
      "provenance": [],
      "include_colab_link": true
    }
  },
  "nbformat": 4,
  "nbformat_minor": 0
}
