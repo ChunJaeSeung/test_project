{
  "cells": [
    {
      "cell_type": "markdown",
      "metadata": {
        "id": "view-in-github",
        "colab_type": "text"
      },
      "source": [
        "<a href=\"https://colab.research.google.com/github/ChunJaeSeung/test_project/blob/main/lesson_01_contents_orientation_%26_numpy_1_array%2C_zero%2C_one.ipynb\" target=\"_parent\"><img src=\"https://colab.research.google.com/assets/colab-badge.svg\" alt=\"Open In Colab\"/></a>"
      ]
    },
    {
      "cell_type": "markdown",
      "metadata": {
        "id": "u3vIf4ZCl9O_"
      },
      "source": [
        "## 목차\n",
        "    - numpy\n",
        "    - pandas\n",
        "    - matplotlib & seaborn\n",
        "    - scikit-learn"
      ]
    },
    {
      "cell_type": "markdown",
      "metadata": {
        "id": "dIqH-_hcl9PB"
      },
      "source": [
        "### Numpy\n",
        "    - 행렬 연산을 가능하게 해주는 패키지\n",
        "    - python으로 작성되나 연산은 C, C++, 포트란으로 진행\n",
        "        - 선형대수 연산을 빠르게 할 수 있음"
      ]
    },
    {
      "cell_type": "code",
      "execution_count": 1,
      "metadata": {
        "ExecuteTime": {
          "end_time": "2021-02-02T01:38:00.546479Z",
          "start_time": "2021-02-02T01:38:00.528522Z"
        },
        "colab": {
          "base_uri": "https://localhost:8080/"
        },
        "id": "2x9j2firl9PC",
        "outputId": "6744a1bb-65ef-46d2-cfd2-74ff83d0419d"
      },
      "outputs": [
        {
          "output_type": "execute_result",
          "data": {
            "text/plain": [
              "(numpy.ndarray, array([1, 2, 3], dtype=int32))"
            ]
          },
          "metadata": {},
          "execution_count": 1
        }
      ],
      "source": [
        "import numpy as np   # 넘파이 라이브러리 불러오기, 및 np로 작성시 넘파이 사용약속\n",
        "# 배열객체 = #생성자 함수  #파이썬 리스트\n",
        "ary = np.array([1, 2, 3], dtype = 'int32')\n",
        "type(ary), ary"
      ]
    },
    {
      "cell_type": "markdown",
      "metadata": {
        "id": "BnvRz-u9l9PD"
      },
      "source": [
        "    - ndarray : 한가지 데이터 타입만으로 사용이 가능"
      ]
    },
    {
      "cell_type": "code",
      "execution_count": 2,
      "metadata": {
        "ExecuteTime": {
          "end_time": "2021-02-02T01:39:20.920270Z",
          "start_time": "2021-02-02T01:39:20.903288Z"
        },
        "colab": {
          "base_uri": "https://localhost:8080/"
        },
        "id": "h2fEC_qtl9PE",
        "outputId": "42dd2002-20dd-4828-caeb-ac958b14e561"
      },
      "outputs": [
        {
          "output_type": "stream",
          "name": "stdout",
          "text": [
            "[[1 2 3]\n",
            " [4 5 6]]\n",
            "2\n",
            "(2, 3)\n",
            "6\n",
            "int64\n"
          ]
        }
      ],
      "source": [
        "ary2 = np.array([[1, 2, 3],\n",
        "                 [4, 5, 6]])\n",
        "\n",
        "print(ary2)       # 행렬 확인\n",
        "print(ary2.ndim)   # 행렬의 차원\n",
        "print(ary2.shape)  # 행렬의 형태\n",
        "print(ary2.size)   # 행렬 내 원소개수\n",
        "print(ary2.dtype) # 행렬의 자료형"
      ]
    },
    {
      "cell_type": "code",
      "source": [
        "help(np.random.randint)"
      ],
      "metadata": {
        "id": "kqw8Rj-Stfof"
      },
      "execution_count": null,
      "outputs": []
    },
    {
      "cell_type": "code",
      "source": [
        "a = np.random.randint(2, 10, size=(5,))\n",
        "b = np.random.randint(2, 10, size=(2, 4))\n",
        "c = np.random.randint(2, 10, size=(2, 3, 4))\n",
        "print(a)\n",
        "print(b)\n",
        "print(c)"
      ],
      "metadata": {
        "colab": {
          "base_uri": "https://localhost:8080/"
        },
        "id": "QvJSjjVduF44",
        "outputId": "72f7f7c1-9e3c-4dac-8c17-52f8f83df184"
      },
      "execution_count": 4,
      "outputs": [
        {
          "output_type": "stream",
          "name": "stdout",
          "text": [
            "[8 2 4 6 2]\n",
            "[[3 4 5 5]\n",
            " [7 4 8 6]]\n",
            "[[[4 4 6 7]\n",
            "  [5 9 5 5]\n",
            "  [7 5 6 8]]\n",
            "\n",
            " [[5 5 4 5]\n",
            "  [7 3 5 7]\n",
            "  [5 5 2 2]]]\n"
          ]
        }
      ]
    },
    {
      "cell_type": "code",
      "execution_count": 5,
      "metadata": {
        "ExecuteTime": {
          "end_time": "2021-02-02T01:39:51.378729Z",
          "start_time": "2021-02-02T01:39:51.371748Z"
        },
        "colab": {
          "base_uri": "https://localhost:8080/"
        },
        "id": "oSUy6pQBl9PE",
        "outputId": "50452472-245e-4f82-af04-9e0eb13d95b2"
      },
      "outputs": [
        {
          "output_type": "execute_result",
          "data": {
            "text/plain": [
              "array([[1, 2],\n",
              "       [3, 4],\n",
              "       [5, 6]])"
            ]
          },
          "metadata": {},
          "execution_count": 5
        }
      ],
      "source": [
        "ary2.reshape(3, 2)"
      ]
    },
    {
      "cell_type": "code",
      "execution_count": 6,
      "metadata": {
        "ExecuteTime": {
          "end_time": "2021-02-02T01:40:30.129131Z",
          "start_time": "2021-02-02T01:40:30.108640Z"
        },
        "colab": {
          "base_uri": "https://localhost:8080/"
        },
        "id": "IgP7GMLHl9PE",
        "outputId": "b133997a-a95a-42b1-d704-a31bcccaf0a8"
      },
      "outputs": [
        {
          "output_type": "execute_result",
          "data": {
            "text/plain": [
              "array([4, 5, 6])"
            ]
          },
          "metadata": {},
          "execution_count": 6
        }
      ],
      "source": [
        "ary2[1]"
      ]
    },
    {
      "cell_type": "code",
      "execution_count": 7,
      "metadata": {
        "ExecuteTime": {
          "end_time": "2021-02-02T01:40:41.796092Z",
          "start_time": "2021-02-02T01:40:41.785080Z"
        },
        "colab": {
          "base_uri": "https://localhost:8080/"
        },
        "id": "Se-jfGSKl9PF",
        "outputId": "5f282f80-ed14-4520-8312-927cdce23394"
      },
      "outputs": [
        {
          "output_type": "execute_result",
          "data": {
            "text/plain": [
              "5"
            ]
          },
          "metadata": {},
          "execution_count": 7
        }
      ],
      "source": [
        "ary2[1, 1]"
      ]
    },
    {
      "cell_type": "markdown",
      "metadata": {
        "id": "yC9NrNIKl9PF"
      },
      "source": [
        "#### 데이터 수정"
      ]
    },
    {
      "cell_type": "code",
      "execution_count": 8,
      "metadata": {
        "ExecuteTime": {
          "end_time": "2021-02-02T01:41:05.267642Z",
          "start_time": "2021-02-02T01:41:05.250664Z"
        },
        "colab": {
          "base_uri": "https://localhost:8080/"
        },
        "id": "VOb0B8Nsl9PG",
        "outputId": "417d9197-c1d9-46a9-e237-9962bab0f539"
      },
      "outputs": [
        {
          "output_type": "execute_result",
          "data": {
            "text/plain": [
              "[1, 5, 3]"
            ]
          },
          "metadata": {},
          "execution_count": 8
        }
      ],
      "source": [
        "ls = [1, 2, 3]\n",
        "ls[1] = 5\n",
        "ls"
      ]
    },
    {
      "cell_type": "code",
      "execution_count": 9,
      "metadata": {
        "ExecuteTime": {
          "end_time": "2021-02-02T01:41:41.214434Z",
          "start_time": "2021-02-02T01:41:41.207453Z"
        },
        "colab": {
          "base_uri": "https://localhost:8080/"
        },
        "id": "7GtqQv7Wl9PG",
        "outputId": "db5bbdff-f0ee-4ad5-b04f-4e2348c4d54f"
      },
      "outputs": [
        {
          "output_type": "execute_result",
          "data": {
            "text/plain": [
              "array([[1, 2, 3],\n",
              "       [0, 0, 0]])"
            ]
          },
          "metadata": {},
          "execution_count": 9
        }
      ],
      "source": [
        "ary3 = np.array([[1, 2, 3],\n",
        "                 [0, 1, 0]])\n",
        "ary3[1][1] = 0\n",
        "ary3"
      ]
    },
    {
      "cell_type": "markdown",
      "metadata": {
        "id": "ngm9679Ol9PH"
      },
      "source": [
        "##### array 브로드캐스팅"
      ]
    },
    {
      "cell_type": "code",
      "execution_count": null,
      "metadata": {
        "ExecuteTime": {
          "end_time": "2021-02-02T01:42:06.656677Z",
          "start_time": "2021-02-02T01:42:06.637726Z"
        },
        "id": "STHkfHEIl9PH",
        "outputId": "01db7544-dbb7-4bd5-c67e-65ec2dc59cb6"
      },
      "outputs": [
        {
          "data": {
            "text/plain": [
              "array([[0, 0, 0],\n",
              "       [0, 0, 0]])"
            ]
          },
          "execution_count": 9,
          "metadata": {},
          "output_type": "execute_result"
        }
      ],
      "source": [
        "ary3[0] = 0\n",
        "ary3"
      ]
    },
    {
      "cell_type": "markdown",
      "metadata": {
        "id": "WFtAjveYl9PH"
      },
      "source": [
        "##### array 조건 선택"
      ]
    },
    {
      "cell_type": "code",
      "execution_count": 10,
      "metadata": {
        "ExecuteTime": {
          "end_time": "2021-02-02T01:42:53.899652Z",
          "start_time": "2021-02-02T01:42:53.887684Z"
        },
        "colab": {
          "base_uri": "https://localhost:8080/"
        },
        "id": "OARL_PUVl9PH",
        "outputId": "0a6f7059-fdd1-4f8a-98cb-409975404310"
      },
      "outputs": [
        {
          "output_type": "execute_result",
          "data": {
            "text/plain": [
              "array([[5, 5, 5],\n",
              "       [5, 6, 7]])"
            ]
          },
          "metadata": {},
          "execution_count": 10
        }
      ],
      "source": [
        "ary3[0] = 5\n",
        "ary3[1] = [5, 6, 7]\n",
        "ary3"
      ]
    },
    {
      "cell_type": "code",
      "execution_count": 11,
      "metadata": {
        "ExecuteTime": {
          "end_time": "2021-02-02T01:43:36.435560Z",
          "start_time": "2021-02-02T01:43:36.428609Z"
        },
        "colab": {
          "base_uri": "https://localhost:8080/"
        },
        "id": "CMAobBXkl9PI",
        "outputId": "6a5fa4b8-ea18-4f19-87cb-b929248d7474"
      },
      "outputs": [
        {
          "output_type": "execute_result",
          "data": {
            "text/plain": [
              "array([[False, False, False],\n",
              "       [False,  True,  True]])"
            ]
          },
          "metadata": {},
          "execution_count": 11
        }
      ],
      "source": [
        "idx = ary3 > 5\n",
        "idx"
      ]
    },
    {
      "cell_type": "code",
      "execution_count": 12,
      "metadata": {
        "ExecuteTime": {
          "end_time": "2021-02-02T01:43:36.975713Z",
          "start_time": "2021-02-02T01:43:36.956738Z"
        },
        "colab": {
          "base_uri": "https://localhost:8080/"
        },
        "id": "zmWKl5Ywl9PI",
        "outputId": "baf620b0-555c-4e1c-eb38-8fdcd3b57b21"
      },
      "outputs": [
        {
          "output_type": "execute_result",
          "data": {
            "text/plain": [
              "array([6, 7])"
            ]
          },
          "metadata": {},
          "execution_count": 12
        }
      ],
      "source": [
        "ary3[idx]"
      ]
    },
    {
      "cell_type": "code",
      "source": [
        "ary3[ary3 > 5] #위에 코드와 같음"
      ],
      "metadata": {
        "colab": {
          "base_uri": "https://localhost:8080/"
        },
        "id": "Bw1s11Rmv2I_",
        "outputId": "b226ee98-ff6d-405b-ef84-3a170dbf093a"
      },
      "execution_count": 13,
      "outputs": [
        {
          "output_type": "execute_result",
          "data": {
            "text/plain": [
              "array([6, 7])"
            ]
          },
          "metadata": {},
          "execution_count": 13
        }
      ]
    },
    {
      "cell_type": "markdown",
      "metadata": {
        "id": "0JOXtl-cl9PI"
      },
      "source": [
        "##### 조건에 맞는 값만 변경"
      ]
    },
    {
      "cell_type": "code",
      "execution_count": 15,
      "metadata": {
        "ExecuteTime": {
          "end_time": "2021-02-02T01:43:58.414724Z",
          "start_time": "2021-02-02T01:43:58.395749Z"
        },
        "colab": {
          "base_uri": "https://localhost:8080/"
        },
        "id": "so0C4fxEl9PI",
        "outputId": "22577e72-1159-450a-a423-784c1c9a016b"
      },
      "outputs": [
        {
          "output_type": "execute_result",
          "data": {
            "text/plain": [
              "array([[  5,   5,   5],\n",
              "       [  5, 100, 100]])"
            ]
          },
          "metadata": {},
          "execution_count": 15
        }
      ],
      "source": [
        "ary3[idx] = 100\n",
        "ary3"
      ]
    },
    {
      "cell_type": "code",
      "source": [
        "ary3[ary3 > 5] = 100\n",
        "print(ary3)"
      ],
      "metadata": {
        "colab": {
          "base_uri": "https://localhost:8080/"
        },
        "id": "rzRzp6o7v_9Y",
        "outputId": "b5fff320-a1d8-414c-c53c-a98503eac3be"
      },
      "execution_count": 14,
      "outputs": [
        {
          "output_type": "stream",
          "name": "stdout",
          "text": [
            "[[  5   5   5]\n",
            " [  5 100 100]]\n"
          ]
        }
      ]
    },
    {
      "cell_type": "markdown",
      "metadata": {
        "id": "PxNJ8cCel9PJ"
      },
      "source": [
        "#### zero array"
      ]
    },
    {
      "cell_type": "code",
      "execution_count": 18,
      "metadata": {
        "ExecuteTime": {
          "end_time": "2021-02-02T01:44:32.926690Z",
          "start_time": "2021-02-02T01:44:32.919711Z"
        },
        "colab": {
          "base_uri": "https://localhost:8080/"
        },
        "id": "oD_ObgzKl9PJ",
        "outputId": "0501bc99-c24a-467c-fdb8-5efc24f38e01"
      },
      "outputs": [
        {
          "output_type": "execute_result",
          "data": {
            "text/plain": [
              "array([[0., 0., 0.],\n",
              "       [0., 0., 0.]])"
            ]
          },
          "metadata": {},
          "execution_count": 18
        }
      ],
      "source": [
        "zero_ary = np.zeros(shape = (2, 3))\n",
        "zero_ary"
      ]
    },
    {
      "cell_type": "code",
      "execution_count": 17,
      "metadata": {
        "ExecuteTime": {
          "end_time": "2021-02-02T01:44:46.433063Z",
          "start_time": "2021-02-02T01:44:46.426074Z"
        },
        "colab": {
          "base_uri": "https://localhost:8080/"
        },
        "id": "Pjf_4bOUl9PJ",
        "outputId": "3da87971-9a92-42ee-907b-f726eb092044"
      },
      "outputs": [
        {
          "output_type": "execute_result",
          "data": {
            "text/plain": [
              "numpy.ndarray"
            ]
          },
          "metadata": {},
          "execution_count": 17
        }
      ],
      "source": [
        "type(zero_ary)"
      ]
    },
    {
      "cell_type": "code",
      "execution_count": 19,
      "metadata": {
        "ExecuteTime": {
          "end_time": "2021-02-02T01:45:01.103458Z",
          "start_time": "2021-02-02T01:45:01.092488Z"
        },
        "colab": {
          "base_uri": "https://localhost:8080/"
        },
        "id": "E9z32MGel9PJ",
        "outputId": "f58ed35d-40aa-4077-ff12-ccab8c5e87ef"
      },
      "outputs": [
        {
          "output_type": "execute_result",
          "data": {
            "text/plain": [
              "dtype('float64')"
            ]
          },
          "metadata": {},
          "execution_count": 19
        }
      ],
      "source": [
        "zero_ary.dtype # 실수형 값만 바꿔 넣을 수 있음"
      ]
    },
    {
      "cell_type": "markdown",
      "metadata": {
        "id": "CJMzXUJtl9PJ"
      },
      "source": [
        "##### array안의 데이터 형태 변경"
      ]
    },
    {
      "cell_type": "code",
      "execution_count": 21,
      "metadata": {
        "ExecuteTime": {
          "end_time": "2021-02-02T01:46:02.240813Z",
          "start_time": "2021-02-02T01:46:02.231868Z"
        },
        "colab": {
          "base_uri": "https://localhost:8080/"
        },
        "id": "uy0fbK6Cl9PK",
        "outputId": "324edef7-c82f-4322-b54b-3b8eebdf832f"
      },
      "outputs": [
        {
          "output_type": "execute_result",
          "data": {
            "text/plain": [
              "dtype('int64')"
            ]
          },
          "metadata": {},
          "execution_count": 21
        }
      ],
      "source": [
        "z2 = zero_ary.astype('int64') # 타입 바꿀 때 뒤에 숫자는 안바꾸는게 좋다. 바꾸면 데이터가 날라갈수도 있음.\n",
        "z2.dtype"
      ]
    },
    {
      "cell_type": "markdown",
      "metadata": {
        "id": "i6nroTSAl9PK"
      },
      "source": [
        "#### one array"
      ]
    },
    {
      "cell_type": "code",
      "execution_count": 22,
      "metadata": {
        "ExecuteTime": {
          "end_time": "2021-02-02T01:48:07.903196Z",
          "start_time": "2021-02-02T01:48:07.888234Z"
        },
        "colab": {
          "base_uri": "https://localhost:8080/"
        },
        "id": "Y6LCK8rml9PK",
        "outputId": "8aa0b43b-1147-48fd-b823-a1d8c14b2ed5"
      },
      "outputs": [
        {
          "output_type": "execute_result",
          "data": {
            "text/plain": [
              "(dtype('float64'), array([[1., 1., 1.],\n",
              "        [1., 1., 1.]]))"
            ]
          },
          "metadata": {},
          "execution_count": 22
        }
      ],
      "source": [
        "one_ary = np.ones((2, 3)) # shape을 적어도 되고 빼도 자동으로 shape 된다.\n",
        "one_ary.dtype, one_ary"
      ]
    },
    {
      "cell_type": "code",
      "execution_count": 23,
      "metadata": {
        "ExecuteTime": {
          "end_time": "2021-02-02T01:48:41.625341Z",
          "start_time": "2021-02-02T01:48:41.616365Z"
        },
        "colab": {
          "base_uri": "https://localhost:8080/"
        },
        "id": "5X_UjW7pl9PK",
        "outputId": "154a937c-f8df-4d4b-f630-eee9ae581379"
      },
      "outputs": [
        {
          "output_type": "execute_result",
          "data": {
            "text/plain": [
              "(dtype('int64'), array([[[1, 1],\n",
              "         [1, 1],\n",
              "         [1, 1]],\n",
              " \n",
              "        [[1, 1],\n",
              "         [1, 1],\n",
              "         [1, 1]]]))"
            ]
          },
          "metadata": {},
          "execution_count": 23
        }
      ],
      "source": [
        "one_ary2 = np.ones((2, 3, 2)).astype('int')\n",
        "one_ary2.dtype, one_ary2"
      ]
    },
    {
      "cell_type": "code",
      "source": [
        "id = np.identity(n = 5, dtype = np.int8) # 단위 행렬\n",
        "id # n의 숫자를 바꾸면 크기가 바뀐다"
      ],
      "metadata": {
        "colab": {
          "base_uri": "https://localhost:8080/"
        },
        "id": "qJmM3XCwxoWw",
        "outputId": "ddb5e753-0333-49e0-c052-de71c657ec6e"
      },
      "execution_count": 24,
      "outputs": [
        {
          "output_type": "execute_result",
          "data": {
            "text/plain": [
              "array([[1, 0, 0, 0, 0],\n",
              "       [0, 1, 0, 0, 0],\n",
              "       [0, 0, 1, 0, 0],\n",
              "       [0, 0, 0, 1, 0],\n",
              "       [0, 0, 0, 0, 1]], dtype=int8)"
            ]
          },
          "metadata": {},
          "execution_count": 24
        }
      ]
    },
    {
      "cell_type": "markdown",
      "metadata": {
        "id": "Hti33I6ul9PK"
      },
      "source": [
        "#### 범위값 array 생성"
      ]
    },
    {
      "cell_type": "code",
      "execution_count": 25,
      "metadata": {
        "ExecuteTime": {
          "end_time": "2021-02-02T01:58:29.771621Z",
          "start_time": "2021-02-02T01:58:29.761651Z"
        },
        "colab": {
          "base_uri": "https://localhost:8080/"
        },
        "id": "cVwpPWO9l9PK",
        "outputId": "5b1f7ad0-4a0f-4756-c2e8-f755ba1fe8d5"
      },
      "outputs": [
        {
          "output_type": "execute_result",
          "data": {
            "text/plain": [
              "array([ 1,  2,  3,  4,  5,  6,  7,  8,  9, 10])"
            ]
          },
          "metadata": {},
          "execution_count": 25
        }
      ],
      "source": [
        "ary4 = np.arange(1, 11) # 끝 숫자는 항상 빼기 1 해야한다.\n",
        "ary4"
      ]
    }
  ],
  "metadata": {
    "hide_input": false,
    "kernelspec": {
      "display_name": "Python 3",
      "language": "python",
      "name": "python3"
    },
    "language_info": {
      "codemirror_mode": {
        "name": "ipython",
        "version": 3
      },
      "file_extension": ".py",
      "mimetype": "text/x-python",
      "name": "python",
      "nbconvert_exporter": "python",
      "pygments_lexer": "ipython3",
      "version": "3.8.5"
    },
    "toc": {
      "base_numbering": 1,
      "nav_menu": {},
      "number_sections": true,
      "sideBar": true,
      "skip_h1_title": false,
      "title_cell": "Table of Contents",
      "title_sidebar": "Contents",
      "toc_cell": false,
      "toc_position": {},
      "toc_section_display": true,
      "toc_window_display": false
    },
    "varInspector": {
      "cols": {
        "lenName": 16,
        "lenType": 16,
        "lenVar": 40
      },
      "kernels_config": {
        "python": {
          "delete_cmd_postfix": "",
          "delete_cmd_prefix": "del ",
          "library": "var_list.py",
          "varRefreshCmd": "print(var_dic_list())"
        },
        "r": {
          "delete_cmd_postfix": ") ",
          "delete_cmd_prefix": "rm(",
          "library": "var_list.r",
          "varRefreshCmd": "cat(var_dic_list()) "
        }
      },
      "types_to_exclude": [
        "module",
        "function",
        "builtin_function_or_method",
        "instance",
        "_Feature"
      ],
      "window_display": false
    },
    "colab": {
      "name": "lesson 01. contents orientation & numpy 1 - array, zero, one.ipynb",
      "provenance": [],
      "include_colab_link": true
    }
  },
  "nbformat": 4,
  "nbformat_minor": 0
}
