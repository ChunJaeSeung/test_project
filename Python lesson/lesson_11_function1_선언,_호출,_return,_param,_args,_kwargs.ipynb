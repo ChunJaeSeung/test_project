{
  "cells": [
    {
      "cell_type": "markdown",
      "metadata": {
        "id": "view-in-github",
        "colab_type": "text"
      },
      "source": [
        "<a href=\"https://colab.research.google.com/github/ChunJaeSeung/test_project/blob/main/lesson_11_function1_%EC%84%A0%EC%96%B8%2C_%ED%98%B8%EC%B6%9C%2C_return%2C_param%2C_args%2C_kwargs.ipynb\" target=\"_parent\"><img src=\"https://colab.research.google.com/assets/colab-badge.svg\" alt=\"Open In Colab\"/></a>"
      ]
    },
    {
      "cell_type": "markdown",
      "metadata": {
        "id": "ZlgY2VP8OAmS"
      },
      "source": [
        "## Function\n",
        "    - 특정 목적을 위해 작성한 코드(연산)의 집합\n",
        "    - 독립적인 호출과 간결한 코드 작성을 위해 사용 : 코드 작성의 반복을 줄일 수 있음!\n",
        "    - 복잡한 프로그래밍 작업을 더 간단한 작업들로 분해할 수 있다.\n",
        "    - 한 번 작성하면 재사용이 편하다.\n",
        "    - 가독성 및 코드 유지 관리가 쉬워진다.\n",
        "    "
      ]
    },
    {
      "cell_type": "code",
      "execution_count": 2,
      "metadata": {
        "id": "rNuG75iFOAmU",
        "colab": {
          "base_uri": "https://localhost:8080/"
        },
        "outputId": "15bc573a-ebdd-442e-fb47-82722373ddb0"
      },
      "outputs": [
        {
          "output_type": "execute_result",
          "data": {
            "text/plain": [
              "375"
            ]
          },
          "metadata": {},
          "execution_count": 2
        }
      ],
      "source": [
        "score = 0\n",
        "\n",
        "test = [100, 90, 50, 65, 70]\n",
        "for s in test:\n",
        "  score += s\n",
        "\n",
        "score"
      ]
    },
    {
      "cell_type": "code",
      "execution_count": 3,
      "metadata": {
        "id": "64yO1ImQOAmU",
        "colab": {
          "base_uri": "https://localhost:8080/"
        },
        "outputId": "f4464b63-cd65-4d37-b7df-371e78661d52"
      },
      "outputs": [
        {
          "output_type": "execute_result",
          "data": {
            "text/plain": [
              "686"
            ]
          },
          "metadata": {},
          "execution_count": 3
        }
      ],
      "source": [
        "test2 = [50, 22, 29, 100, 10, 100]\n",
        "for s in test2:\n",
        "  score += s\n",
        "\n",
        "score"
      ]
    },
    {
      "cell_type": "markdown",
      "metadata": {
        "id": "ZiAaLZoHOAmU"
      },
      "source": [
        "    같은 연산의 코드 작성을 반복해서 써야하므로 불편하고 힘들고 간단히 만들어보자!\n",
        "    "
      ]
    },
    {
      "cell_type": "markdown",
      "metadata": {
        "id": "k0CmIrruOAmV"
      },
      "source": [
        "### 함수의 선언과 호출"
      ]
    },
    {
      "cell_type": "markdown",
      "metadata": {
        "id": "Y2fEY16rOAmV"
      },
      "source": [
        "#### 선언\n",
        "```python\n",
        "def 함수명(param1, param2, ...):\n",
        "    # 작성하고 싶은 코드 구문\n",
        "    #..\n",
        "    #..\n",
        "    return 결과값\n",
        "```"
      ]
    },
    {
      "cell_type": "code",
      "execution_count": 4,
      "metadata": {
        "id": "dFDtjlSAOAmW"
      },
      "outputs": [],
      "source": [
        "def score(test):\n",
        "  point = 0\n",
        "  for s in test:\n",
        "    point += s\n",
        "  return point"
      ]
    },
    {
      "cell_type": "code",
      "execution_count": 5,
      "metadata": {
        "id": "acJzjslYOAmW",
        "colab": {
          "base_uri": "https://localhost:8080/"
        },
        "outputId": "818c6f36-bce2-42c9-fbf1-360478dd8384"
      },
      "outputs": [
        {
          "output_type": "stream",
          "name": "stdout",
          "text": [
            "320\n"
          ]
        }
      ],
      "source": [
        "# test\n",
        "test1 = [100, 50, 75, 65, 30]\n",
        "test2 = [50, 40, 25, 15, 11, 20]\n",
        "\n",
        "print(score(test1))\n",
        "#print(score(test2, 20)) #에러 발생"
      ]
    },
    {
      "cell_type": "code",
      "execution_count": 6,
      "metadata": {
        "id": "7iNYEZ8iOAmX",
        "colab": {
          "base_uri": "https://localhost:8080/"
        },
        "outputId": "8ff67020-1f9f-49ab-be37-45a8ac254f0f"
      },
      "outputs": [
        {
          "output_type": "execute_result",
          "data": {
            "text/plain": [
              "62.800000000000004"
            ]
          },
          "metadata": {},
          "execution_count": 6
        }
      ],
      "source": [
        "def get_area(radius):\n",
        "  return 3.14*radius*2\n",
        "\n",
        "get_area(10)"
      ]
    },
    {
      "cell_type": "markdown",
      "metadata": {
        "id": "sFgb1Y_AOAmY"
      },
      "source": [
        "##### quiz\n",
        "    1. 정수를 제곱하는 함수\n",
        "    2. 평균을 구하는 함수"
      ]
    },
    {
      "cell_type": "code",
      "execution_count": 7,
      "metadata": {
        "id": "6SLbISyiOAmY",
        "colab": {
          "base_uri": "https://localhost:8080/"
        },
        "outputId": "5f470286-4528-4584-e728-2bc3205f017f"
      },
      "outputs": [
        {
          "output_type": "stream",
          "name": "stdout",
          "text": [
            "100 15.0\n"
          ]
        }
      ],
      "source": [
        "def square(n):\n",
        "  return n**2\n",
        "\n",
        "def average(n1, n2):\n",
        "  return (n1+n2)/2\n",
        "\n",
        "print(square(10), average(10,20))"
      ]
    },
    {
      "cell_type": "markdown",
      "metadata": {
        "id": "H_8wE074OAmZ"
      },
      "source": [
        "#### 호출"
      ]
    },
    {
      "cell_type": "markdown",
      "metadata": {
        "id": "CufwpkqiOAmZ"
      },
      "source": [
        "##### parameter, argument\n",
        "```python\n",
        "    def 함수명(파라미터):\n",
        "        return\n",
        "    \n",
        "    함수명(아규먼트)\n",
        "```\n",
        "    - 파라미터는 함수를 선언할 때 호출할 변수\n",
        "    - 아규먼트는 함수를 호출할 때 보내줄 변수\n",
        "    - 함수를 선언할 때 파라미터의 타입과 개수를 맞추지 않으면 에러가 발생"
      ]
    },
    {
      "cell_type": "code",
      "execution_count": 8,
      "metadata": {
        "id": "J-vqkB2FOAma",
        "colab": {
          "base_uri": "https://localhost:8080/"
        },
        "outputId": "fd29d44a-718f-458a-dbf5-bdd9d4df14c9"
      },
      "outputs": [
        {
          "output_type": "execute_result",
          "data": {
            "text/plain": [
              "400"
            ]
          },
          "metadata": {},
          "execution_count": 8
        }
      ],
      "source": [
        "def bowling(n1, n2, n3 = 50): #n3 이름의 파라미터는 디폴트 파라미터\n",
        "  return n1+n2+n3\n",
        "\n",
        "bowling(200,150) #n3 파라미터에 값을 넣어주지 않아도 디폴트 값을 이용해서 실행"
      ]
    },
    {
      "cell_type": "code",
      "execution_count": 9,
      "metadata": {
        "id": "dMmkhbYmOAma",
        "colab": {
          "base_uri": "https://localhost:8080/"
        },
        "outputId": "b5137739-2dbe-457b-aebd-fe2eec66ce43"
      },
      "outputs": [
        {
          "output_type": "execute_result",
          "data": {
            "text/plain": [
              "(350, 360)"
            ]
          },
          "metadata": {},
          "execution_count": 9
        }
      ],
      "source": [
        "bowling(200, 150, 0), bowling(200, 150, n3 = 10)"
      ]
    },
    {
      "cell_type": "markdown",
      "metadata": {
        "id": "qh2HMFeCOAma"
      },
      "source": [
        "#### return\n",
        "    - 선언한 함수의 결과값을 저장\n",
        "    - 함수내에서 연산 진행중에 return에 도달하면 연산이 종료\n",
        "    - return을 작성하지 않으면 결과값을 저장하지 않음"
      ]
    },
    {
      "cell_type": "code",
      "execution_count": 10,
      "metadata": {
        "id": "1CyxJHT8OAmb",
        "colab": {
          "base_uri": "https://localhost:8080/",
          "height": 35
        },
        "outputId": "297ed7e8-7b39-4162-d86b-d5b65a2b6c28"
      },
      "outputs": [
        {
          "output_type": "execute_result",
          "data": {
            "text/plain": [
              "'HELLO PYTHON'"
            ],
            "application/vnd.google.colaboratory.intrinsic+json": {
              "type": "string"
            }
          },
          "metadata": {},
          "execution_count": 10
        }
      ],
      "source": [
        "def print_test(text):\n",
        "  return text.upper() #앞에 있는 변수가 문자라면 전부 대문자로 만들어준다.\n",
        "\n",
        "text = \"hello python\"\n",
        "print_test(text)"
      ]
    },
    {
      "cell_type": "code",
      "execution_count": 11,
      "metadata": {
        "id": "q0kAqsVEOAmb",
        "colab": {
          "base_uri": "https://localhost:8080/"
        },
        "outputId": "c825c224-6827-4ef3-f880-2e92c35b2cf8"
      },
      "outputs": [
        {
          "output_type": "stream",
          "name": "stdout",
          "text": [
            "HELLO PYTHON\n"
          ]
        }
      ],
      "source": [
        "def print_test(text):\n",
        "  print(text.upper())\n",
        "#  return text.upper()\n",
        "\n",
        "text = \"hello python\"\n",
        "print_test(text)\n",
        "#print_test(text).lower() #저장된 결과 값이 없으므로 lower()함수를 실행시킬 수 없음."
      ]
    },
    {
      "cell_type": "code",
      "execution_count": 12,
      "metadata": {
        "id": "l62n5RtrOAmb",
        "colab": {
          "base_uri": "https://localhost:8080/"
        },
        "outputId": "5c9af1e3-7ef4-4d5c-f13c-05818f6b709e"
      },
      "outputs": [
        {
          "output_type": "stream",
          "name": "stdout",
          "text": [
            "12\n",
            "3\n",
            "Clear!\n"
          ]
        },
        {
          "output_type": "execute_result",
          "data": {
            "text/plain": [
              "(False, False, True)"
            ]
          },
          "metadata": {},
          "execution_count": 12
        }
      ],
      "source": [
        "# 함수 연산을 중단 시키는 예제\n",
        "\n",
        "def alpha_check(text):\n",
        "  for t in text:\n",
        "    if t.isalpha(): #isalpha() : str타입의 변수가 알파벳으로 구성되어있으면 True, 아니면 False를 반환하는 함수\n",
        "      continue\n",
        "    else:\n",
        "      print(text.index(t)+1)\n",
        "      return False\n",
        "    \n",
        "  print(\"Clear!\")\n",
        "  return True\n",
        "\n",
        "text = 'abcdeFgHijk1op'\n",
        "text2 = 'mn2asd'\n",
        "text3 = 'easyupclass'\n",
        "alpha_check(text), alpha_check(text2), alpha_check(text3)"
      ]
    },
    {
      "cell_type": "markdown",
      "metadata": {
        "id": "LxRXaW-mOAmc"
      },
      "source": [
        "#### arguments와 keyword arguments\n",
        "    - 인수의 이름을 지정해서 parameter로 전달한다. \n",
        "    - 인수의 위치가 매개변수의 순서와 달라도 가능하다.\n",
        "    - positional argument라고도 한다.\n",
        "    - keyword args의 경우 아규먼트로 함수 호출 시 키워드를 작성하여 호출하며 반드시 다른 arguments 뒤에 존재해야 한다.\n"
      ]
    },
    {
      "cell_type": "code",
      "execution_count": 14,
      "metadata": {
        "id": "P2kcHW3COAmc",
        "colab": {
          "base_uri": "https://localhost:8080/"
        },
        "outputId": "450d8eea-2069-47c4-9e8b-b5acfdb95fe7"
      },
      "outputs": [
        {
          "output_type": "execute_result",
          "data": {
            "text/plain": [
              "5"
            ]
          },
          "metadata": {},
          "execution_count": 14
        }
      ],
      "source": [
        "def operation(a = 0, b = 0, c = 0): #a,b,c는 keyword argument\n",
        "  return a*b+c\n",
        "\n",
        "operation(1,2,3)"
      ]
    },
    {
      "cell_type": "code",
      "source": [
        "operation(1,c=33)\n",
        "#operation(1,a=2) #파라미터가 겹칠 가능성도 존재할 때"
      ],
      "metadata": {
        "id": "eNJyEm9dBhQz"
      },
      "execution_count": null,
      "outputs": []
    },
    {
      "cell_type": "markdown",
      "source": [
        "####  가변 인수\n",
        "  - 함수 선언시 파라미터의 수를 특정할 수 없을 경우 사용\n",
        "  - asterisk(*) 를 사용한다.\n",
        "  - *args는 가변길이 인수를 전달, 튜플 타입\n",
        "  - **kwargs는 키워드 인수를 전달, 딕셔너리 타입\n",
        "  - 가변 인수는 튜플이나 리스트 등으로 for 문으로 사용가능하다."
      ],
      "metadata": {
        "id": "vQjZ35ccuJ02"
      }
    },
    {
      "cell_type": "code",
      "source": [
        "def hap(num, *args, **kwargs):\n",
        "  print(type(num), num)\n",
        "  print(type(args), args)\n",
        "  print(type(kwargs), kwargs)\n",
        "  return num + sum(args) + sum(list(kwargs.values()))\n",
        "\n",
        "# hap(1)  #ctrl + /\n",
        "hap(1, 2, 3, num1 = 4, num2 = 5)"
      ],
      "metadata": {
        "id": "SEEX00vuuLsy",
        "colab": {
          "base_uri": "https://localhost:8080/"
        },
        "outputId": "d19c3050-70ac-47d8-835e-66c6c44fcb00"
      },
      "execution_count": 17,
      "outputs": [
        {
          "output_type": "stream",
          "name": "stdout",
          "text": [
            "<class 'int'> 1\n",
            "<class 'tuple'> (2, 3)\n",
            "<class 'dict'> {'num1': 4, 'num2': 5}\n"
          ]
        },
        {
          "output_type": "execute_result",
          "data": {
            "text/plain": [
              "15"
            ]
          },
          "metadata": {},
          "execution_count": 17
        }
      ]
    },
    {
      "cell_type": "markdown",
      "metadata": {
        "id": "mTc2UpusOAmc"
      },
      "source": [
        "##### list타입 데이터를 args로 호출하는 방법"
      ]
    },
    {
      "cell_type": "code",
      "execution_count": 18,
      "metadata": {
        "id": "lKjCYc4DOAmc",
        "colab": {
          "base_uri": "https://localhost:8080/"
        },
        "outputId": "30080a30-dfe9-4562-8d6a-1a3085a26178"
      },
      "outputs": [
        {
          "output_type": "execute_result",
          "data": {
            "text/plain": [
              "162"
            ]
          },
          "metadata": {},
          "execution_count": 18
        }
      ],
      "source": [
        "def multiply(n1, n2, n3):\n",
        "  return n1 * n2 ** n3\n",
        "\n",
        "ls = [2, 3, 4]\n",
        "\n",
        "multiply(*ls) #list 타입 데이터를 함수에 선언한 파라미터에 각각 대입 "
      ]
    },
    {
      "cell_type": "code",
      "execution_count": null,
      "metadata": {
        "id": "M4PhpNpHOAmd"
      },
      "outputs": [],
      "source": [
        "ls2 = [2, 3, 4, 5]\n",
        "multiply(*ls2) # 함수 선언시 *args로 선언하지 않고 파라미터의 개수가 맞지 않아서 오류 발생"
      ]
    },
    {
      "cell_type": "code",
      "execution_count": null,
      "metadata": {
        "id": "S_gXLlfHOAmd"
      },
      "outputs": [],
      "source": [
        "def hap2(*args):\n",
        "  return sum(args)\n",
        "\n",
        "ls3 = [1, 2, 3]\n",
        "hap2(ls3) # 호출하는 argument 타입이 직접 입력이 아닌 경우에도 에러가 발생"
      ]
    },
    {
      "cell_type": "code",
      "execution_count": 22,
      "metadata": {
        "id": "VjoWt3D_OAmd",
        "colab": {
          "base_uri": "https://localhost:8080/"
        },
        "outputId": "2524daf2-d8a0-4921-9f43-ea922be4322c"
      },
      "outputs": [
        {
          "output_type": "execute_result",
          "data": {
            "text/plain": [
              "(6, 6)"
            ]
          },
          "metadata": {},
          "execution_count": 22
        }
      ],
      "source": [
        "hap2(1, 2, 3), hap2(*ls3)"
      ]
    },
    {
      "cell_type": "code",
      "source": [
        ""
      ],
      "metadata": {
        "id": "EzWwdA9REZAD"
      },
      "execution_count": null,
      "outputs": []
    }
  ],
  "metadata": {
    "hide_input": false,
    "kernelspec": {
      "display_name": "Python 3",
      "language": "python",
      "name": "python3"
    },
    "language_info": {
      "codemirror_mode": {
        "name": "ipython",
        "version": 3
      },
      "file_extension": ".py",
      "mimetype": "text/x-python",
      "name": "python",
      "nbconvert_exporter": "python",
      "pygments_lexer": "ipython3",
      "version": "3.8.5"
    },
    "toc": {
      "base_numbering": 1,
      "nav_menu": {},
      "number_sections": true,
      "sideBar": true,
      "skip_h1_title": false,
      "title_cell": "Table of Contents",
      "title_sidebar": "Contents",
      "toc_cell": false,
      "toc_position": {
        "height": "calc(100% - 180px)",
        "left": "10px",
        "top": "150px",
        "width": "384px"
      },
      "toc_section_display": true,
      "toc_window_display": false
    },
    "varInspector": {
      "cols": {
        "lenName": 16,
        "lenType": 16,
        "lenVar": 40
      },
      "kernels_config": {
        "python": {
          "delete_cmd_postfix": "",
          "delete_cmd_prefix": "del ",
          "library": "var_list.py",
          "varRefreshCmd": "print(var_dic_list())"
        },
        "r": {
          "delete_cmd_postfix": ") ",
          "delete_cmd_prefix": "rm(",
          "library": "var_list.r",
          "varRefreshCmd": "cat(var_dic_list()) "
        }
      },
      "types_to_exclude": [
        "module",
        "function",
        "builtin_function_or_method",
        "instance",
        "_Feature"
      ],
      "window_display": false
    },
    "colab": {
      "name": "lesson 11. function1 - 선언, 호출, return, param, args, kwargs.ipynb",
      "provenance": [],
      "collapsed_sections": [],
      "include_colab_link": true
    }
  },
  "nbformat": 4,
  "nbformat_minor": 0
}
