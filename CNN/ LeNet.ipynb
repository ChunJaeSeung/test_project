{
  "nbformat": 4,
  "nbformat_minor": 0,
  "metadata": {
    "colab": {
      "name": "LeNet.ipynb",
      "provenance": [],
      "collapsed_sections": [],
      "toc_visible": true,
      "include_colab_link": true
    },
    "kernelspec": {
      "name": "python3",
      "display_name": "Python 3"
    },
    "language_info": {
      "name": "python"
    },
    "accelerator": "GPU",
    "gpuClass": "standard"
  },
  "cells": [
    {
      "cell_type": "markdown",
      "metadata": {
        "id": "view-in-github",
        "colab_type": "text"
      },
      "source": [
        "<a href=\"https://colab.research.google.com/github/ChunJaeSeung/test_project/blob/main/CNN/%20LeNet.ipynb\" target=\"_parent\"><img src=\"https://colab.research.google.com/assets/colab-badge.svg\" alt=\"Open In Colab\"/></a>"
      ]
    },
    {
      "cell_type": "markdown",
      "source": [
        "# LeNet CNN(Convolution Neural Network) 구현하기 with keras"
      ],
      "metadata": {
        "id": "Sx5vXS25hlBa"
      }
    },
    {
      "cell_type": "markdown",
      "source": [
        "## 1. 모듈 import"
      ],
      "metadata": {
        "id": "4Zitf2FjigTN"
      }
    },
    {
      "cell_type": "code",
      "execution_count": 1,
      "metadata": {
        "id": "ZmCCpOtPg7kV"
      },
      "outputs": [],
      "source": [
        "import tensorflow as tf\n",
        "import keras\n",
        "import matplotlib.pyplot as plt\n",
        "from keras import datasets, layers, models, losses\n",
        "from tensorflow.keras.optimizers import Adam,RMSprop\n",
        "import numpy as np\n",
        "from keras.utils.np_utils import to_categorical\n",
        "from keras import backend"
      ]
    },
    {
      "cell_type": "markdown",
      "source": [
        "## 2. keras에서 제공하는 데이터셋 MNIST 불러오기"
      ],
      "metadata": {
        "id": "Y5y85rzLjErV"
      }
    },
    {
      "cell_type": "code",
      "source": [
        "(x_train,y_train),(x_test,y_test) = datasets.mnist.load_data()\n",
        "x_train.shape"
      ],
      "metadata": {
        "id": "bCfI8C9mif7O",
        "colab": {
          "base_uri": "https://localhost:8080/"
        },
        "outputId": "19673c7a-dcea-4c11-cc11-89376d583181"
      },
      "execution_count": 2,
      "outputs": [
        {
          "output_type": "stream",
          "name": "stdout",
          "text": [
            "Downloading data from https://storage.googleapis.com/tensorflow/tf-keras-datasets/mnist.npz\n",
            "11493376/11490434 [==============================] - 0s 0us/step\n",
            "11501568/11490434 [==============================] - 0s 0us/step\n"
          ]
        },
        {
          "output_type": "execute_result",
          "data": {
            "text/plain": [
              "(60000, 28, 28)"
            ]
          },
          "metadata": {},
          "execution_count": 2
        }
      ]
    },
    {
      "cell_type": "markdown",
      "source": [
        "## 3. 데이터셋 로드"
      ],
      "metadata": {
        "id": "6mStDO2BjTUw"
      }
    },
    {
      "cell_type": "code",
      "source": [
        "plt.imshow(x_train[1], cmap='Greys')"
      ],
      "metadata": {
        "id": "jAsWN9MCzDJj",
        "colab": {
          "base_uri": "https://localhost:8080/",
          "height": 283
        },
        "outputId": "276bd17f-1649-44fa-cc22-4e1d9578f2b6"
      },
      "execution_count": 3,
      "outputs": [
        {
          "output_type": "execute_result",
          "data": {
            "text/plain": [
              "<matplotlib.image.AxesImage at 0x7f07c55ba990>"
            ]
          },
          "metadata": {},
          "execution_count": 3
        },
        {
          "output_type": "display_data",
          "data": {
            "text/plain": [
              "<Figure size 432x288 with 1 Axes>"
            ],
            "image/png": "[encoded data removed]"
          },
          "metadata": {
            "needs_background": "light"
          }
        }
      ]
    },
    {
      "cell_type": "code",
      "source": [
        "plt.imshow(x_train[3], cmap='Greys')"
      ],
      "metadata": {
        "id": "tbkITYL-zFxY",
        "colab": {
          "base_uri": "https://localhost:8080/",
          "height": 283
        },
        "outputId": "2b62db83-1e7e-47a3-fae8-2b15a51e63f3"
      },
      "execution_count": 4,
      "outputs": [
        {
          "output_type": "execute_result",
          "data": {
            "text/plain": [
              "<matplotlib.image.AxesImage at 0x7f07c5563890>"
            ]
          },
          "metadata": {},
          "execution_count": 4
        },
        {
          "output_type": "display_data",
          "data": {
            "text/plain": [
              "<Figure size 432x288 with 1 Axes>"
            ],
            "image/png": "[encoded data removed]"
          },
          "metadata": {
            "needs_background": "light"
          }
        }
      ]
    },
    {
      "cell_type": "markdown",
      "source": [
        "## 4. 이미지 크기 조정\n",
        "* 원본 LeNet 모델은 32x32 이미지를 input 받습니다.그렇기 때문에 28x28 MNIST 이미지를 패딩하여 32x32이미지로 변경해줍니다.\n"
      ],
      "metadata": {
        "id": "FWxigVc-7Sh3"
      }
    },
    {
      "cell_type": "code",
      "source": [
        "x_train = x_train.astype('float32')\n",
        "x_test = x_test.astype('float32')\n",
        "x_train.shape"
      ],
      "metadata": {
        "id": "atJ0JYz6QYSy",
        "colab": {
          "base_uri": "https://localhost:8080/"
        },
        "outputId": "7c4066eb-2888-42e4-b24a-d2558f097a00"
      },
      "execution_count": 5,
      "outputs": [
        {
          "output_type": "execute_result",
          "data": {
            "text/plain": [
              "(60000, 28, 28)"
            ]
          },
          "metadata": {},
          "execution_count": 5
        }
      ]
    },
    {
      "cell_type": "code",
      "source": [
        "x_train = tf.pad(x_train, [[0, 0], [2,2], [2,2]])/255 # [0,0] : 배치 크기 , [2,2] : [top, bottom], [2,2] : [Right,left]\n",
        "x_test = tf.pad(x_test, [[0, 0], [2,2], [2,2]])/255\n",
        "x_train.shape"
      ],
      "metadata": {
        "id": "wzc9JUmEzIhW",
        "colab": {
          "base_uri": "https://localhost:8080/"
        },
        "outputId": "78b35bb2-a19b-4ca1-e907-e863a83ff936"
      },
      "execution_count": 6,
      "outputs": [
        {
          "output_type": "execute_result",
          "data": {
            "text/plain": [
              "TensorShape([60000, 32, 32])"
            ]
          },
          "metadata": {},
          "execution_count": 6
        }
      ]
    },
    {
      "cell_type": "markdown",
      "source": [
        "## 5. 채널 정보 추가\n",
        "\n",
        "\n",
        "*   대부분의 CNN은 배치 크기, 높이, 너비 및 채널 차원을 갖는 입력으로 4차원 텐서를 허용받습니다.\n",
        "* MNIST 이미지는 회색조이기 때문에 마지막 차원이 반드시 존재하지 않아도 됩니다.\n",
        "* 텐서를 확장하고 축 번호 3에 더미 차원을 만듭니다.\n"
      ],
      "metadata": {
        "id": "Pqp2qvcZzJQJ"
      }
    },
    {
      "cell_type": "code",
      "source": [
        "x_train = x_train[:, :, :,np.newaxis,]\n",
        "x_test = x_test[:, :, :, np.newaxis]\n",
        "x_train.shape"
      ],
      "metadata": {
        "id": "92rLy4WWzYsv",
        "colab": {
          "base_uri": "https://localhost:8080/"
        },
        "outputId": "1ad54604-a0b5-4056-df00-6816469f9718"
      },
      "execution_count": 7,
      "outputs": [
        {
          "output_type": "execute_result",
          "data": {
            "text/plain": [
              "TensorShape([60000, 32, 32, 1])"
            ]
          },
          "metadata": {},
          "execution_count": 7
        }
      ]
    },
    {
      "cell_type": "markdown",
      "source": [
        "## 6. Validation set \n",
        "* train : test  = 8 :2\n",
        "* Validation set은 주로 모델의 하이퍼파라미터 조정을 위해 사용됩니다.\n",
        "* 모델 개발 시 검증 분할을 사용하는 것이 좋습니다.\n",
        "* 훈련에 이미지의 80%를 사용하고 검증에 20%를 사용합니다."
      ],
      "metadata": {
        "id": "YHxM2LEy8EP-"
      }
    },
    {
      "cell_type": "code",
      "source": [
        "x_val = x_train[int(-(x_train.shape[0]*0.8)):,:,:,:] \n",
        "y_val = y_train[int(-(x_train.shape[0]*0.8)):] \n",
        "x_train = x_train[:int(-(x_train.shape[0]*0.8)),:,:,:] \n",
        "y_train = y_train[:int(-(x_train.shape[0]*0.8))]\n",
        "train_y = to_categorical(y_train, 10)\n",
        "test_y = to_categorical(y_test, 10)"
      ],
      "metadata": {
        "id": "5nPeFqY98UIK"
      },
      "execution_count": 8,
      "outputs": []
    },
    {
      "cell_type": "code",
      "source": [
        "train_y.shape"
      ],
      "metadata": {
        "colab": {
          "base_uri": "https://localhost:8080/"
        },
        "id": "Vj8bD2VDLgRa",
        "outputId": "f7df93a4-7459-4e02-983c-29dcbad032d4"
      },
      "execution_count": 9,
      "outputs": [
        {
          "output_type": "execute_result",
          "data": {
            "text/plain": [
              "(50400, 10)"
            ]
          },
          "metadata": {},
          "execution_count": 9
        }
      ]
    },
    {
      "cell_type": "markdown",
      "source": [
        "## 6. LeNet 모델 만들기\n",
        "\n",
        "\n"
      ],
      "metadata": {
        "id": "SHdFhMjkzt_g"
      }
    },
    {
      "cell_type": "code",
      "source": [
        "class LeNet:\n",
        "  @staticmethod\n",
        "  def build(input_shape, classes):\n",
        "    model = models.Sequential()\n",
        "    model.add(layers.Conv2D(6, 5, activation='tanh', padding='same',input_shape=input_shape))\n",
        "    model.add(layers.AveragePooling2D(2,padding='same'))\n",
        "    model.add(layers.Conv2D(16, 5, activation='tanh',padding='same'))\n",
        "    model.add(layers.AveragePooling2D(2,padding='same'))\n",
        "    model.add(layers.Conv2D(120, 5, activation='tanh',padding='same'))\n",
        "    model.add(layers.Flatten())\n",
        "    model.add(layers.Dense(84, activation='tanh'))\n",
        "    model.add(layers.Dense(10, activation='softmax'))\n",
        "    return model"
      ],
      "metadata": {
        "id": "oJj0d-u7ztmp"
      },
      "execution_count": 10,
      "outputs": []
    },
    {
      "cell_type": "code",
      "source": [
        "model = LeNet.build(input_shape = (32, 32, 1), classes = 10)\n",
        "model.summary()"
      ],
      "metadata": {
        "id": "wGaQItoTxwRs",
        "colab": {
          "base_uri": "https://localhost:8080/"
        },
        "outputId": "801ff94d-b520-46d0-cb5b-ff037949eef9"
      },
      "execution_count": 11,
      "outputs": [
        {
          "output_type": "stream",
          "name": "stdout",
          "text": [
            "Model: \"sequential\"\n",
            "_________________________________________________________________\n",
            " Layer (type)                Output Shape              Param #   \n",
            "=================================================================\n",
            " conv2d (Conv2D)             (None, 32, 32, 6)         156       \n",
            "                                                                 \n",
            " average_pooling2d (AverageP  (None, 16, 16, 6)        0         \n",
            " ooling2D)                                                       \n",
            "                                                                 \n",
            " conv2d_1 (Conv2D)           (None, 16, 16, 16)        2416      \n",
            "                                                                 \n",
            " average_pooling2d_1 (Averag  (None, 8, 8, 16)         0         \n",
            " ePooling2D)                                                     \n",
            "                                                                 \n",
            " conv2d_2 (Conv2D)           (None, 8, 8, 120)         48120     \n",
            "                                                                 \n",
            " flatten (Flatten)           (None, 7680)              0         \n",
            "                                                                 \n",
            " dense (Dense)               (None, 84)                645204    \n",
            "                                                                 \n",
            " dense_1 (Dense)             (None, 10)                850       \n",
            "                                                                 \n",
            "=================================================================\n",
            "Total params: 696,746\n",
            "Trainable params: 696,746\n",
            "Non-trainable params: 0\n",
            "_________________________________________________________________\n"
          ]
        }
      ]
    },
    {
      "cell_type": "markdown",
      "source": [
        "### Sparse Categorical Crossentropy\n",
        "- Multi-class calssification 즉 클래스가 여러 개인 다중 분류 문제에서 사용\n",
        "- label이 정수 인코딩 된 형태 즉, label이 class index를 값으로 가질 때 사용\n",
        "\n",
        "\n",
        ">ex) 예를 들어, 3 class classification 문제에서 label이 0 또는 1또는 2를 값으로 가질때 사용\n",
        "\n",
        "\n",
        "- 모델의 마지막 레이어의 활성화 함수는 소프트맥스\n"
      ],
      "metadata": {
        "id": "RN54cn9PRFtE"
      }
    },
    {
      "cell_type": "code",
      "source": [
        "model.compile(loss = \"sparse_categorical_crossentropy\", optimizer=Adam(), metrics=[\"accuracy\"])"
      ],
      "metadata": {
        "id": "EKF5otPs0U_f"
      },
      "execution_count": 12,
      "outputs": []
    },
    {
      "cell_type": "code",
      "source": [
        "history = model.fit(x_train, y_train, batch_size=256, epochs=10, verbose=1, validation_split=0.2)"
      ],
      "metadata": {
        "id": "aNnkthBL0U3X",
        "colab": {
          "base_uri": "https://localhost:8080/"
        },
        "outputId": "e1a228f7-97fd-470d-ea45-183f1198156a"
      },
      "execution_count": 13,
      "outputs": [
        {
          "output_type": "stream",
          "name": "stdout",
          "text": [
            "Epoch 1/10\n",
            "38/38 [==============================] - 16s 20ms/step - loss: 0.6463 - accuracy: 0.8078 - val_loss: 0.3129 - val_accuracy: 0.9087\n",
            "Epoch 2/10\n",
            "38/38 [==============================] - 0s 8ms/step - loss: 0.2834 - accuracy: 0.9174 - val_loss: 0.2532 - val_accuracy: 0.9254\n",
            "Epoch 3/10\n",
            "38/38 [==============================] - 0s 9ms/step - loss: 0.2283 - accuracy: 0.9355 - val_loss: 0.2399 - val_accuracy: 0.9312\n",
            "Epoch 4/10\n",
            "38/38 [==============================] - 0s 9ms/step - loss: 0.1947 - accuracy: 0.9460 - val_loss: 0.2198 - val_accuracy: 0.9304\n",
            "Epoch 5/10\n",
            "38/38 [==============================] - 0s 8ms/step - loss: 0.1726 - accuracy: 0.9524 - val_loss: 0.2045 - val_accuracy: 0.9358\n",
            "Epoch 6/10\n",
            "38/38 [==============================] - 0s 9ms/step - loss: 0.1576 - accuracy: 0.9572 - val_loss: 0.1915 - val_accuracy: 0.9454\n",
            "Epoch 7/10\n",
            "38/38 [==============================] - 0s 9ms/step - loss: 0.1391 - accuracy: 0.9635 - val_loss: 0.1805 - val_accuracy: 0.9483\n",
            "Epoch 8/10\n",
            "38/38 [==============================] - 0s 9ms/step - loss: 0.1277 - accuracy: 0.9668 - val_loss: 0.2036 - val_accuracy: 0.9367\n",
            "Epoch 9/10\n",
            "38/38 [==============================] - 0s 8ms/step - loss: 0.1198 - accuracy: 0.9676 - val_loss: 0.1703 - val_accuracy: 0.9525\n",
            "Epoch 10/10\n",
            "38/38 [==============================] - 0s 8ms/step - loss: 0.1070 - accuracy: 0.9727 - val_loss: 0.1749 - val_accuracy: 0.9463\n"
          ]
        }
      ]
    },
    {
      "cell_type": "code",
      "source": [
        "score = model.evaluate(x_test, y_test, verbose=1)"
      ],
      "metadata": {
        "id": "MYxhFZaf0Uwe",
        "colab": {
          "base_uri": "https://localhost:8080/"
        },
        "outputId": "5fbfc1f4-4329-42d3-e12e-cc5993d67bcd"
      },
      "execution_count": 14,
      "outputs": [
        {
          "output_type": "stream",
          "name": "stdout",
          "text": [
            "313/313 [==============================] - 1s 3ms/step - loss: 0.1860 - accuracy: 0.9438\n"
          ]
        }
      ]
    },
    {
      "cell_type": "markdown",
      "source": [
        "## 7. 최종 정확도\n",
        "* 최종정확도는 epoch가 거듭될수록 좋아지는것을 확인가능하다."
      ],
      "metadata": {
        "id": "5KIaGZNy0a_v"
      }
    },
    {
      "cell_type": "code",
      "source": [
        "print(\"최종 정확도 : \" + str( score[1] * 100 ) + \" %\" )"
      ],
      "metadata": {
        "id": "j93qS8mG0ayv",
        "colab": {
          "base_uri": "https://localhost:8080/"
        },
        "outputId": "fc5f7a6b-4514-45f4-9f09-6e2749c83bf7"
      },
      "execution_count": 15,
      "outputs": [
        {
          "output_type": "stream",
          "name": "stdout",
          "text": [
            "최종 정확도 : 94.37999725341797 %\n"
          ]
        }
      ]
    },
    {
      "cell_type": "code",
      "source": [
        "plt.plot(history.history['accuracy'])"
      ],
      "metadata": {
        "id": "zjBi58r00hO5",
        "colab": {
          "base_uri": "https://localhost:8080/",
          "height": 283
        },
        "outputId": "7c2f61b4-765f-4548-fccb-6e176faf23a3"
      },
      "execution_count": 16,
      "outputs": [
        {
          "output_type": "execute_result",
          "data": {
            "text/plain": [
              "[<matplotlib.lines.Line2D at 0x7f07463b6410>]"
            ]
          },
          "metadata": {},
          "execution_count": 16
        },
        {
          "output_type": "display_data",
          "data": {
            "text/plain": [
              "<Figure size 432x288 with 1 Axes>"
            ],
            "image/png": "[encoded data removed]"
          },
          "metadata": {
            "needs_background": "light"
          }
        }
      ]
    },
    {
      "cell_type": "markdown",
      "source": [
        "* validation셋에 대한 정확도 확인가능하며, validation셋에 대한 정확도가 더 중요하다."
      ],
      "metadata": {
        "id": "P0mtKSzd0jo_"
      }
    },
    {
      "cell_type": "code",
      "source": [
        "plt.plot(history.history['val_accuracy'])"
      ],
      "metadata": {
        "id": "nvF9Xj000jHh",
        "colab": {
          "base_uri": "https://localhost:8080/",
          "height": 283
        },
        "outputId": "63e4c6e2-6430-4f14-8af9-17af140a513b"
      },
      "execution_count": 17,
      "outputs": [
        {
          "output_type": "execute_result",
          "data": {
            "text/plain": [
              "[<matplotlib.lines.Line2D at 0x7f074636d3d0>]"
            ]
          },
          "metadata": {},
          "execution_count": 17
        },
        {
          "output_type": "display_data",
          "data": {
            "text/plain": [
              "<Figure size 432x288 with 1 Axes>"
            ],
            "image/png": "[encoded data removed]"
          },
          "metadata": {
            "needs_background": "light"
          }
        }
      ]
    },
    {
      "cell_type": "code",
      "source": [
        "print(\"최종 정확도 : \" + str( score[1] * 100 ) + \" %\" )"
      ],
      "metadata": {
        "id": "bvOjtxz805km",
        "colab": {
          "base_uri": "https://localhost:8080/"
        },
        "outputId": "07cf981f-4829-4e27-b9ed-d46e1ca314f3"
      },
      "execution_count": 18,
      "outputs": [
        {
          "output_type": "stream",
          "name": "stdout",
          "text": [
            "최종 정확도 : 94.37999725341797 %\n"
          ]
        }
      ]
    },
    {
      "cell_type": "markdown",
      "source": [
        "## 8. 여러가지 파라미터 교체\n",
        "\n",
        "\n",
        "*   optimizer를 RMSprop\n",
        "* activation function ReLu로 모델교체\n",
        "* pool과 stride를 교체(2->3)\n",
        "\n"
      ],
      "metadata": {
        "id": "nypdLuqz08_m"
      }
    },
    {
      "cell_type": "code",
      "source": [
        "(x_train,y_train),(x_test,y_test) = datasets.mnist.load_data()\n",
        "x_train = x_train.astype('float32')\n",
        "x_test = x_test.astype('float32')\n",
        "x_train = tf.pad(x_train, [[0, 0], [2,2], [2,2]])/255\n",
        "x_test = tf.pad(x_test, [[0, 0], [2,2], [2,2]])/255\n",
        "x_train = x_train[:, :, :,np.newaxis,]\n",
        "x_test = x_test[:, :, :, np.newaxis]\n",
        "x_val = x_train[int(-(x_train.shape[0]*0.8)):,:,:,:] \n",
        "y_val = y_train[int(-(x_train.shape[0]*0.8)):] \n",
        "x_train = x_train[:int(-(x_train.shape[0]*0.8)),:,:,:] \n",
        "y_train = y_train[:int(-(x_train.shape[0]*0.8))]\n",
        "train_y = to_categorical(y_train, 10)\n",
        "test_y = to_categorical(y_test, 10)"
      ],
      "metadata": {
        "id": "g38CPkkF06qO"
      },
      "execution_count": 19,
      "outputs": []
    },
    {
      "cell_type": "code",
      "source": [
        "class LeNet:\n",
        "  @staticmethod\n",
        "  def build(input_shape, classes):\n",
        "    model = models.Sequential()\n",
        "    model.add(layers.Conv2D(6, 5, activation='relu', padding='same',input_shape=input_shape))\n",
        "    model.add(layers.AveragePooling2D(3,padding='same'))\n",
        "    model.add(layers.Conv2D(16, 5, activation='relu',padding='same'))\n",
        "    model.add(layers.AveragePooling2D(3,padding='same'))\n",
        "    model.add(layers.Conv2D(120, 5, activation='relu',padding='same'))\n",
        "    model.add(layers.Flatten())\n",
        "    model.add(layers.Dense(84, activation='relu'))\n",
        "    model.add(layers.Dense(10, activation='softmax'))\n",
        "    return model\n",
        "model.summary()"
      ],
      "metadata": {
        "colab": {
          "base_uri": "https://localhost:8080/"
        },
        "id": "Vadz5tS3WDNH",
        "outputId": "733fb0a0-8dd9-4c4d-d2f4-27a4143c3196"
      },
      "execution_count": 20,
      "outputs": [
        {
          "output_type": "stream",
          "name": "stdout",
          "text": [
            "Model: \"sequential\"\n",
            "_________________________________________________________________\n",
            " Layer (type)                Output Shape              Param #   \n",
            "=================================================================\n",
            " conv2d (Conv2D)             (None, 32, 32, 6)         156       \n",
            "                                                                 \n",
            " average_pooling2d (AverageP  (None, 16, 16, 6)        0         \n",
            " ooling2D)                                                       \n",
            "                                                                 \n",
            " conv2d_1 (Conv2D)           (None, 16, 16, 16)        2416      \n",
            "                                                                 \n",
            " average_pooling2d_1 (Averag  (None, 8, 8, 16)         0         \n",
            " ePooling2D)                                                     \n",
            "                                                                 \n",
            " conv2d_2 (Conv2D)           (None, 8, 8, 120)         48120     \n",
            "                                                                 \n",
            " flatten (Flatten)           (None, 7680)              0         \n",
            "                                                                 \n",
            " dense (Dense)               (None, 84)                645204    \n",
            "                                                                 \n",
            " dense_1 (Dense)             (None, 10)                850       \n",
            "                                                                 \n",
            "=================================================================\n",
            "Total params: 696,746\n",
            "Trainable params: 696,746\n",
            "Non-trainable params: 0\n",
            "_________________________________________________________________\n"
          ]
        }
      ]
    },
    {
      "cell_type": "code",
      "source": [
        "model = LeNet.build(input_shape = (32, 32, 1), classes = 10)"
      ],
      "metadata": {
        "id": "20r8AQbaXQxe"
      },
      "execution_count": 21,
      "outputs": []
    },
    {
      "cell_type": "markdown",
      "source": [
        "### RMS prop , ReLU"
      ],
      "metadata": {
        "id": "vOuj8zS2XxuX"
      }
    },
    {
      "cell_type": "code",
      "source": [
        "model.compile(loss = \"sparse_categorical_crossentropy\", optimizer=RMSprop(), metrics=[\"accuracy\"])"
      ],
      "metadata": {
        "id": "YTpNnOeLXTem"
      },
      "execution_count": 22,
      "outputs": []
    },
    {
      "cell_type": "code",
      "source": [
        "history = model.fit(x_train, y_train, batch_size=256, epochs=10, verbose=1, validation_split=0.2)"
      ],
      "metadata": {
        "colab": {
          "base_uri": "https://localhost:8080/"
        },
        "id": "nvLb6wR6UxHi",
        "outputId": "9049a279-2443-4520-a517-b6c5156488fc"
      },
      "execution_count": 23,
      "outputs": [
        {
          "output_type": "stream",
          "name": "stdout",
          "text": [
            "Epoch 1/10\n",
            "38/38 [==============================] - 2s 16ms/step - loss: 1.5255 - accuracy: 0.4841 - val_loss: 0.8051 - val_accuracy: 0.7617\n",
            "Epoch 2/10\n",
            "38/38 [==============================] - 0s 7ms/step - loss: 0.7452 - accuracy: 0.7604 - val_loss: 0.6189 - val_accuracy: 0.7879\n",
            "Epoch 3/10\n",
            "38/38 [==============================] - 0s 8ms/step - loss: 0.5556 - accuracy: 0.8200 - val_loss: 0.4385 - val_accuracy: 0.8654\n",
            "Epoch 4/10\n",
            "38/38 [==============================] - 0s 8ms/step - loss: 0.4533 - accuracy: 0.8552 - val_loss: 0.4075 - val_accuracy: 0.8754\n",
            "Epoch 5/10\n",
            "38/38 [==============================] - 0s 7ms/step - loss: 0.3514 - accuracy: 0.8883 - val_loss: 0.2780 - val_accuracy: 0.9179\n",
            "Epoch 6/10\n",
            "38/38 [==============================] - 0s 7ms/step - loss: 0.3001 - accuracy: 0.9034 - val_loss: 0.3196 - val_accuracy: 0.8933\n",
            "Epoch 7/10\n",
            "38/38 [==============================] - 0s 8ms/step - loss: 0.2573 - accuracy: 0.9181 - val_loss: 0.2973 - val_accuracy: 0.9054\n",
            "Epoch 8/10\n",
            "38/38 [==============================] - 0s 7ms/step - loss: 0.2282 - accuracy: 0.9290 - val_loss: 0.1939 - val_accuracy: 0.9362\n",
            "Epoch 9/10\n",
            "38/38 [==============================] - 0s 7ms/step - loss: 0.1887 - accuracy: 0.9398 - val_loss: 0.1670 - val_accuracy: 0.9475\n",
            "Epoch 10/10\n",
            "38/38 [==============================] - 0s 8ms/step - loss: 0.1697 - accuracy: 0.9469 - val_loss: 0.2450 - val_accuracy: 0.9242\n"
          ]
        }
      ]
    },
    {
      "cell_type": "code",
      "source": [
        "score = model.evaluate(x_test, y_test, verbose=1)\n",
        "print(\"최종 정확도 : \" + str( score[1] * 100 ) + \" %\" )"
      ],
      "metadata": {
        "colab": {
          "base_uri": "https://localhost:8080/"
        },
        "id": "VkZat-ojU5if",
        "outputId": "4b61d6e4-1e75-46ce-9cb4-f1f3af7fba50"
      },
      "execution_count": 24,
      "outputs": [
        {
          "output_type": "stream",
          "name": "stdout",
          "text": [
            "313/313 [==============================] - 1s 3ms/step - loss: 0.2484 - accuracy: 0.9215\n",
            "최종 정확도 : 92.1500027179718 %\n"
          ]
        }
      ]
    },
    {
      "cell_type": "markdown",
      "source": [
        "Adam, ReLU"
      ],
      "metadata": {
        "id": "UCxuHMVfX163"
      }
    },
    {
      "cell_type": "code",
      "source": [
        "model.compile(loss = \"sparse_categorical_crossentropy\", optimizer=Adam(), metrics=[\"accuracy\"])"
      ],
      "metadata": {
        "id": "k11k4IqJyRD6"
      },
      "execution_count": 25,
      "outputs": []
    },
    {
      "cell_type": "code",
      "source": [
        "history = model.fit(x_train, y_train, batch_size=256, epochs=10, verbose=1, validation_split=0.2)"
      ],
      "metadata": {
        "colab": {
          "base_uri": "https://localhost:8080/"
        },
        "id": "6H5Jy6g5Xvrv",
        "outputId": "cf08b485-d51d-4f6e-e1de-d4dedded9b7d"
      },
      "execution_count": 26,
      "outputs": [
        {
          "output_type": "stream",
          "name": "stdout",
          "text": [
            "Epoch 1/10\n",
            "38/38 [==============================] - 1s 11ms/step - loss: 0.1468 - accuracy: 0.9541 - val_loss: 0.1357 - val_accuracy: 0.9575\n",
            "Epoch 2/10\n",
            "38/38 [==============================] - 0s 7ms/step - loss: 0.1182 - accuracy: 0.9623 - val_loss: 0.1297 - val_accuracy: 0.9554\n",
            "Epoch 3/10\n",
            "38/38 [==============================] - 0s 8ms/step - loss: 0.1030 - accuracy: 0.9677 - val_loss: 0.1231 - val_accuracy: 0.9604\n",
            "Epoch 4/10\n",
            "38/38 [==============================] - 0s 6ms/step - loss: 0.0926 - accuracy: 0.9719 - val_loss: 0.1134 - val_accuracy: 0.9646\n",
            "Epoch 5/10\n",
            "38/38 [==============================] - 0s 7ms/step - loss: 0.0807 - accuracy: 0.9751 - val_loss: 0.1217 - val_accuracy: 0.9608\n",
            "Epoch 6/10\n",
            "38/38 [==============================] - 0s 8ms/step - loss: 0.0765 - accuracy: 0.9754 - val_loss: 0.1095 - val_accuracy: 0.9642\n",
            "Epoch 7/10\n",
            "38/38 [==============================] - 0s 8ms/step - loss: 0.0694 - accuracy: 0.9782 - val_loss: 0.1026 - val_accuracy: 0.9667\n",
            "Epoch 8/10\n",
            "38/38 [==============================] - 0s 8ms/step - loss: 0.0597 - accuracy: 0.9811 - val_loss: 0.0886 - val_accuracy: 0.9725\n",
            "Epoch 9/10\n",
            "38/38 [==============================] - 0s 8ms/step - loss: 0.0563 - accuracy: 0.9825 - val_loss: 0.0906 - val_accuracy: 0.9725\n",
            "Epoch 10/10\n",
            "38/38 [==============================] - 0s 8ms/step - loss: 0.0475 - accuracy: 0.9853 - val_loss: 0.1042 - val_accuracy: 0.9663\n"
          ]
        }
      ]
    },
    {
      "cell_type": "code",
      "source": [
        "score = model.evaluate(x_test, y_test, verbose=1)\n",
        "print(\"최종 정확도 : \" + str( score[1] * 100 ) + \" %\" )"
      ],
      "metadata": {
        "colab": {
          "base_uri": "https://localhost:8080/"
        },
        "id": "rNjs6Yv3XwoX",
        "outputId": "10036b9f-a79f-4800-c721-29cca11cefb1"
      },
      "execution_count": 27,
      "outputs": [
        {
          "output_type": "stream",
          "name": "stdout",
          "text": [
            "313/313 [==============================] - 1s 3ms/step - loss: 0.1026 - accuracy: 0.9661\n",
            "최종 정확도 : 96.60999774932861 %\n"
          ]
        }
      ]
    }
  ]
}